{
 "cells": [
  {
   "cell_type": "markdown",
   "metadata": {},
   "source": [
    "<img src=\"https://courses.edx.org/asset-v1:ACCA+ML001+2T2021+type@asset+block@acca-logo.jpg\" alt=\"ACCA logo\" style=\"width: 400px;\"/>\n",
    "\n",
    "# Python for data analysis\n",
    "## Part 6 - One more thing\n",
    "\n",
    "* **Course:** __Machine learning with Python for finance professionals__ by ACCA\n",
    "* **Instructor:** [Coefficient](https://coefficient.ai) / [@CoefficientData](https://twitter.com/CoefficientData)\n",
    "\n",
    "---"
   ]
  },
  {
   "cell_type": "markdown",
   "metadata": {},
   "source": [
    "During this module, you will have seen how powerful pandas is for manipulating data efficiently, and how combined with Seaborn or matplotlib we can produce insightful visualisations for analysis.\n",
    "\n",
    "There are many Python modules that have been developed to extend the functionality of others, and in this notebook we will demonstrate one which is invaluable for quickly producing detailed reporting and automated analysis for any pandas DataFrame."
   ]
  },
  {
   "cell_type": "markdown",
   "metadata": {},
   "source": [
    "<div class=\"alert alert-block alert-info\" style=\"background-color: #BA001E; border: 0px; -moz-border-radius: 10px; -webkit-border-radius: 10px;\">\n",
    "<h2 style=\"color: white\">\n",
    "pandas-profiling\n",
    "</h2><br>\n",
    "</div>"
   ]
  },
  {
   "cell_type": "markdown",
   "metadata": {},
   "source": [
    "<a href=\"https://pandas-profiling.github.io/pandas-profiling/docs/master/rtd/\"><img src=\"https://courses.edx.org/asset-v1:ACCA+ML001+2T2021+type@asset+block@pandas-profiling.png\" alt=\"pandas-profiling\" style=\"width: 800px;\"/></a>"
   ]
  },
  {
   "cell_type": "markdown",
   "metadata": {},
   "source": [
    "**[pandas-profiling](https://pandas-profiling.github.io/pandas-profiling/docs/master/rtd/)** is a Python module that allows you to perform powerful automated exploratory data analysis with a tiny amount of code. The tool generates a report from a pandas DataFrame showing key insights and visualisations. These can then be sent on as interactive reports for stakeholders to explore the data without requiring coding skills.\n",
    "\n",
    "For data scientists, `pandas-profiling` is an invaluable tool for gaining quick insights into unknown datasets. This is a critical part of any machine learning project, highlighting potential issues (e.g. missing values, outliers, co-linearity) or opportunities (e.g. correlations, distribution fitting) and guiding the approach that we may want to take (e.g. understanding non-linearities and the relationships between features helps to identify which models may be appropriate for a given problem)."
   ]
  },
  {
   "cell_type": "markdown",
   "metadata": {},
   "source": [
    "---"
   ]
  },
  {
   "cell_type": "code",
   "execution_count": 10,
   "metadata": {
    "ExecuteTime": {
     "end_time": "2023-09-10T04:18:21.993837900Z",
     "start_time": "2023-09-10T04:18:21.827306400Z"
    }
   },
   "outputs": [
    {
     "ename": "ModuleNotFoundError",
     "evalue": "No module named 'pandas_profiling'",
     "output_type": "error",
     "traceback": [
      "\u001B[1;31m---------------------------------------------------------------------------\u001B[0m",
      "\u001B[1;31mModuleNotFoundError\u001B[0m                       Traceback (most recent call last)",
      "Cell \u001B[1;32mIn[10], line 4\u001B[0m\n\u001B[0;32m      2\u001B[0m \u001B[38;5;28;01mimport\u001B[39;00m \u001B[38;5;21;01mnumpy\u001B[39;00m \u001B[38;5;28;01mas\u001B[39;00m \u001B[38;5;21;01mnp\u001B[39;00m\n\u001B[0;32m      3\u001B[0m \u001B[38;5;28;01mimport\u001B[39;00m \u001B[38;5;21;01mpandas\u001B[39;00m \u001B[38;5;28;01mas\u001B[39;00m \u001B[38;5;21;01mpd\u001B[39;00m\n\u001B[1;32m----> 4\u001B[0m \u001B[38;5;28;01mfrom\u001B[39;00m \u001B[38;5;21;01mpandas_profiling\u001B[39;00m \u001B[38;5;28;01mimport\u001B[39;00m ProfileReport\n\u001B[0;32m      5\u001B[0m \u001B[38;5;66;03m# from ydata_profiling import ProfileReport\u001B[39;00m\n",
      "\u001B[1;31mModuleNotFoundError\u001B[0m: No module named 'pandas_profiling'"
     ]
    }
   ],
   "source": [
    "# Import modules as required\n",
    "import numpy as np\n",
    "import pandas as pd\n",
    "from pandas_profiling import ProfileReport\n",
    "# from ydata_profiling import ProfileReport"
   ]
  },
  {
   "cell_type": "code",
   "execution_count": 11,
   "metadata": {
    "ExecuteTime": {
     "end_time": "2023-09-10T04:18:27.351816100Z",
     "start_time": "2023-09-10T04:18:23.137938900Z"
    }
   },
   "outputs": [
    {
     "data": {
      "text/plain": "  Booking ID Date of Booking    Year      Time Customer ID  Gender  Age  \\\n0  DDID57035      2019-01-01  2019.0  13:23:47     ID10297  Female   51   \n1  DDSG57036      2019-01-01  2019.0  16:14:22     SG10307    Male   46   \n2  DDMY57037      2019-01-01  2019.0  09:49:48     MY10283  Female   25   \n3  DDSG57038      2019-01-01  2019.0  11:46:28     SG10308    Male   22   \n4  DDID57039      2019-01-01  2019.0  13:57:50     ID10298    Male   45   \n\n  Origin Country       State     Location Destination Country  \\\n0      Indonesia     Tambora      Jakarta             Ireland   \n1      Singapore     Central       Novena            Maldives   \n2       Malaysia       Johor  Johor Bahru              Canada   \n3      Singapore  North-East      Hougang            Maldives   \n4      Indonesia      Bekasi    West Java              France   \n\n  Destination City  No. Of People Check-in date  No. Of Days Check-Out Date  \\\n0         Tallaght              2    2019-03-24            1     2019-03-25   \n1         Viligili              4    2019-01-15            2     2019-01-17   \n2       North York              5    2019-01-16            9     2019-01-25   \n3       Fuvahmulah              5    2019-01-18            1     2019-01-19   \n4             Nice              7    2019-01-02            1     2019-01-03   \n\n   Rooms                  Hotel Name  Hotel Rating  \n0      1  Blooming Bed And Breakfast           4.2  \n1      2                 Four Points           4.3  \n2      3             Hotel Joy Stick           3.8  \n3      3               Classio Hotel           3.7  \n4      4               Adam Lake B&B           4.5  ",
      "text/html": "<div>\n<style scoped>\n    .dataframe tbody tr th:only-of-type {\n        vertical-align: middle;\n    }\n\n    .dataframe tbody tr th {\n        vertical-align: top;\n    }\n\n    .dataframe thead th {\n        text-align: right;\n    }\n</style>\n<table border=\"1\" class=\"dataframe\">\n  <thead>\n    <tr style=\"text-align: right;\">\n      <th></th>\n      <th>Booking ID</th>\n      <th>Date of Booking</th>\n      <th>Year</th>\n      <th>Time</th>\n      <th>Customer ID</th>\n      <th>Gender</th>\n      <th>Age</th>\n      <th>Origin Country</th>\n      <th>State</th>\n      <th>Location</th>\n      <th>Destination Country</th>\n      <th>Destination City</th>\n      <th>No. Of People</th>\n      <th>Check-in date</th>\n      <th>No. Of Days</th>\n      <th>Check-Out Date</th>\n      <th>Rooms</th>\n      <th>Hotel Name</th>\n      <th>Hotel Rating</th>\n    </tr>\n  </thead>\n  <tbody>\n    <tr>\n      <th>0</th>\n      <td>DDID57035</td>\n      <td>2019-01-01</td>\n      <td>2019.0</td>\n      <td>13:23:47</td>\n      <td>ID10297</td>\n      <td>Female</td>\n      <td>51</td>\n      <td>Indonesia</td>\n      <td>Tambora</td>\n      <td>Jakarta</td>\n      <td>Ireland</td>\n      <td>Tallaght</td>\n      <td>2</td>\n      <td>2019-03-24</td>\n      <td>1</td>\n      <td>2019-03-25</td>\n      <td>1</td>\n      <td>Blooming Bed And Breakfast</td>\n      <td>4.2</td>\n    </tr>\n    <tr>\n      <th>1</th>\n      <td>DDSG57036</td>\n      <td>2019-01-01</td>\n      <td>2019.0</td>\n      <td>16:14:22</td>\n      <td>SG10307</td>\n      <td>Male</td>\n      <td>46</td>\n      <td>Singapore</td>\n      <td>Central</td>\n      <td>Novena</td>\n      <td>Maldives</td>\n      <td>Viligili</td>\n      <td>4</td>\n      <td>2019-01-15</td>\n      <td>2</td>\n      <td>2019-01-17</td>\n      <td>2</td>\n      <td>Four Points</td>\n      <td>4.3</td>\n    </tr>\n    <tr>\n      <th>2</th>\n      <td>DDMY57037</td>\n      <td>2019-01-01</td>\n      <td>2019.0</td>\n      <td>09:49:48</td>\n      <td>MY10283</td>\n      <td>Female</td>\n      <td>25</td>\n      <td>Malaysia</td>\n      <td>Johor</td>\n      <td>Johor Bahru</td>\n      <td>Canada</td>\n      <td>North York</td>\n      <td>5</td>\n      <td>2019-01-16</td>\n      <td>9</td>\n      <td>2019-01-25</td>\n      <td>3</td>\n      <td>Hotel Joy Stick</td>\n      <td>3.8</td>\n    </tr>\n    <tr>\n      <th>3</th>\n      <td>DDSG57038</td>\n      <td>2019-01-01</td>\n      <td>2019.0</td>\n      <td>11:46:28</td>\n      <td>SG10308</td>\n      <td>Male</td>\n      <td>22</td>\n      <td>Singapore</td>\n      <td>North-East</td>\n      <td>Hougang</td>\n      <td>Maldives</td>\n      <td>Fuvahmulah</td>\n      <td>5</td>\n      <td>2019-01-18</td>\n      <td>1</td>\n      <td>2019-01-19</td>\n      <td>3</td>\n      <td>Classio Hotel</td>\n      <td>3.7</td>\n    </tr>\n    <tr>\n      <th>4</th>\n      <td>DDID57039</td>\n      <td>2019-01-01</td>\n      <td>2019.0</td>\n      <td>13:57:50</td>\n      <td>ID10298</td>\n      <td>Male</td>\n      <td>45</td>\n      <td>Indonesia</td>\n      <td>Bekasi</td>\n      <td>West Java</td>\n      <td>France</td>\n      <td>Nice</td>\n      <td>7</td>\n      <td>2019-01-02</td>\n      <td>1</td>\n      <td>2019-01-03</td>\n      <td>4</td>\n      <td>Adam Lake B&amp;B</td>\n      <td>4.5</td>\n    </tr>\n  </tbody>\n</table>\n</div>"
     },
     "execution_count": 11,
     "metadata": {},
     "output_type": "execute_result"
    }
   ],
   "source": [
    "# Let's read in the Dream Destination hotel data.\n",
    "orders = pd.read_excel(\n",
    "    \"Source\\\\Hotel Industry - Orders Database - 2019.xlsx\", sheet_name=\"Order Database\"\n",
    ")\n",
    "\n",
    "orders.head()"
   ]
  },
  {
   "cell_type": "code",
   "execution_count": 12,
   "metadata": {
    "ExecuteTime": {
     "end_time": "2023-09-10T04:18:27.471884400Z",
     "start_time": "2023-09-10T04:18:27.351816100Z"
    }
   },
   "outputs": [
    {
     "ename": "NameError",
     "evalue": "name 'ProfileReport' is not defined",
     "output_type": "error",
     "traceback": [
      "\u001B[1;31m---------------------------------------------------------------------------\u001B[0m",
      "\u001B[1;31mNameError\u001B[0m                                 Traceback (most recent call last)",
      "Cell \u001B[1;32mIn[12], line 2\u001B[0m\n\u001B[0;32m      1\u001B[0m \u001B[38;5;66;03m# Let's now generate a report with pandas-profiling\u001B[39;00m\n\u001B[1;32m----> 2\u001B[0m profile \u001B[38;5;241m=\u001B[39m \u001B[43mProfileReport\u001B[49m(orders, title\u001B[38;5;241m=\u001B[39m\u001B[38;5;124m\"\u001B[39m\u001B[38;5;124mHotel Industry - Orders Report - 2019\u001B[39m\u001B[38;5;124m\"\u001B[39m)\n",
      "\u001B[1;31mNameError\u001B[0m: name 'ProfileReport' is not defined"
     ]
    }
   ],
   "source": [
    "# Let's now generate a report with pandas-profiling\n",
    "profile = ProfileReport(orders, title=\"Hotel Industry - Orders Report - 2019\")"
   ]
  },
  {
   "cell_type": "code",
   "execution_count": null,
   "metadata": {
    "ExecuteTime": {
     "start_time": "2023-09-10T04:18:27.399818400Z"
    }
   },
   "outputs": [],
   "source": [
    "profile.to_notebook_iframe()"
   ]
  },
  {
   "cell_type": "code",
   "execution_count": null,
   "outputs": [],
   "source": [
    "!pip uninstall -y pandas-profiling"
   ],
   "metadata": {
    "collapsed": false,
    "ExecuteTime": {
     "start_time": "2023-09-10T04:18:27.404818900Z"
    }
   }
  },
  {
   "cell_type": "code",
   "execution_count": null,
   "outputs": [],
   "source": [
    "!pip install pandas-profiling[notebook]"
   ],
   "metadata": {
    "collapsed": false,
    "ExecuteTime": {
     "start_time": "2023-09-10T04:18:27.410820400Z"
    }
   }
  },
  {
   "cell_type": "code",
   "execution_count": null,
   "outputs": [],
   "source": [
    "!pip show pandas-profiling"
   ],
   "metadata": {
    "collapsed": false,
    "ExecuteTime": {
     "start_time": "2023-09-10T04:18:27.413821900Z"
    }
   }
  },
  {
   "cell_type": "markdown",
   "metadata": {},
   "source": [
    "---\n",
    "\n",
    "<div class=\"alert alert-block alert-warning\">\n",
    "<b><i class=\"fa fa-check-square\" aria-hidden=\"true\"></i>&nbsp; Check</b><br>\n",
    "pandas-profiling can take a long time to process large datasets. However, there are methods to reduce the amount of information analysed in order to profile large datasets more efficiently.\n",
    "</div>\n",
    "\n",
    "---\n",
    "\n",
    "The following examples showcase two methods to reduce processing when working with large datasets."
   ]
  },
  {
   "cell_type": "code",
   "execution_count": 8,
   "metadata": {
    "ExecuteTime": {
     "end_time": "2023-09-10T04:17:58.414785100Z",
     "start_time": "2023-09-10T04:17:58.362765800Z"
    }
   },
   "outputs": [
    {
     "ename": "NameError",
     "evalue": "name 'ProfileReport' is not defined",
     "output_type": "error",
     "traceback": [
      "\u001B[1;31m---------------------------------------------------------------------------\u001B[0m",
      "\u001B[1;31mNameError\u001B[0m                                 Traceback (most recent call last)",
      "Cell \u001B[1;32mIn[8], line 2\u001B[0m\n\u001B[0;32m      1\u001B[0m \u001B[38;5;66;03m# By calling the sample function on the order DataFrame, we can select the amount of rows to report on\u001B[39;00m\n\u001B[1;32m----> 2\u001B[0m small_profile \u001B[38;5;241m=\u001B[39m \u001B[43mProfileReport\u001B[49m(orders\u001B[38;5;241m.\u001B[39msample(n\u001B[38;5;241m=\u001B[39m\u001B[38;5;241m100\u001B[39m), title\u001B[38;5;241m=\u001B[39m\u001B[38;5;124m\"\u001B[39m\u001B[38;5;124mHotel Industry - Orders Report - 2019\u001B[39m\u001B[38;5;124m\"\u001B[39m)\n\u001B[0;32m      3\u001B[0m small_profile\n",
      "\u001B[1;31mNameError\u001B[0m: name 'ProfileReport' is not defined"
     ]
    }
   ],
   "source": [
    "# By calling the sample function on the order DataFrame, we can select the amount of rows to report on\n",
    "small_profile = ProfileReport(orders.sample(n=100), title=\"Hotel Industry - Orders Report - 2019\")\n",
    "small_profile"
   ]
  },
  {
   "cell_type": "code",
   "execution_count": 3,
   "metadata": {
    "ExecuteTime": {
     "end_time": "2023-09-10T04:09:11.857053400Z",
     "start_time": "2023-09-10T04:09:11.801529500Z"
    }
   },
   "outputs": [
    {
     "ename": "NameError",
     "evalue": "name 'ProfileReport' is not defined",
     "output_type": "error",
     "traceback": [
      "\u001B[1;31m---------------------------------------------------------------------------\u001B[0m",
      "\u001B[1;31mNameError\u001B[0m                                 Traceback (most recent call last)",
      "Cell \u001B[1;32mIn[3], line 2\u001B[0m\n\u001B[0;32m      1\u001B[0m \u001B[38;5;66;03m# Alternatively, pandas_profiling has a minimal parameter, which produces a simplified report when flagged \u001B[39;00m\n\u001B[1;32m----> 2\u001B[0m minimal_profile \u001B[38;5;241m=\u001B[39m \u001B[43mProfileReport\u001B[49m(orders, title\u001B[38;5;241m=\u001B[39m\u001B[38;5;124m\"\u001B[39m\u001B[38;5;124mHotel Industry - Orders Report - 2019\u001B[39m\u001B[38;5;124m\"\u001B[39m, minimal\u001B[38;5;241m=\u001B[39m\u001B[38;5;28;01mTrue\u001B[39;00m)\n\u001B[0;32m      3\u001B[0m minimal_profile\n",
      "\u001B[1;31mNameError\u001B[0m: name 'ProfileReport' is not defined"
     ]
    }
   ],
   "source": [
    "# Alternatively, pandas_profiling has a minimal parameter, which produces a simplified report when flagged \n",
    "minimal_profile = ProfileReport(orders, title=\"Hotel Industry - Orders Report - 2019\", minimal=True)\n",
    "minimal_profile"
   ]
  },
  {
   "cell_type": "markdown",
   "metadata": {},
   "source": [
    "---\n",
    "\n",
    "Running the module within the Jupyter notebook is great for seeing the results, but in order to distribute the reports we must use the following to save the report to an interactive HTML document."
   ]
  },
  {
   "cell_type": "code",
   "execution_count": 4,
   "metadata": {
    "ExecuteTime": {
     "end_time": "2023-09-10T04:09:12.415351800Z",
     "start_time": "2023-09-10T04:09:12.340348800Z"
    }
   },
   "outputs": [
    {
     "ename": "NameError",
     "evalue": "name 'profile' is not defined",
     "output_type": "error",
     "traceback": [
      "\u001B[1;31m---------------------------------------------------------------------------\u001B[0m",
      "\u001B[1;31mNameError\u001B[0m                                 Traceback (most recent call last)",
      "Cell \u001B[1;32mIn[4], line 2\u001B[0m\n\u001B[0;32m      1\u001B[0m \u001B[38;5;66;03m# Save the report to a file\u001B[39;00m\n\u001B[1;32m----> 2\u001B[0m \u001B[43mprofile\u001B[49m\u001B[38;5;241m.\u001B[39mto_file(\u001B[38;5;124m'\u001B[39m\u001B[38;5;124mHotel Industry - Orders Report - 2019.html\u001B[39m\u001B[38;5;124m'\u001B[39m)\n",
      "\u001B[1;31mNameError\u001B[0m: name 'profile' is not defined"
     ]
    }
   ],
   "source": [
    "# Save the report to a file\n",
    "profile.to_file('Hotel Industry - Orders Report - 2019.html')"
   ]
  },
  {
   "cell_type": "markdown",
   "metadata": {},
   "source": [
    "This can then be sent to stakeholders and viewed in any web browser (right-click the file and open in your browser of choice).\n",
    "\n",
    "---\n",
    "<div class=\"alert alert-block alert-success\">\n",
    "<b>🎉 Congratulations</b><br>\n",
    "You have reached the end of this module.\n",
    "</div>"
   ]
  },
  {
   "cell_type": "code",
   "execution_count": 4,
   "outputs": [],
   "source": [],
   "metadata": {
    "collapsed": false,
    "ExecuteTime": {
     "end_time": "2023-09-10T04:09:12.897923700Z",
     "start_time": "2023-09-10T04:09:12.836408600Z"
    }
   }
  },
  {
   "cell_type": "code",
   "execution_count": null,
   "outputs": [],
   "source": [],
   "metadata": {
    "collapsed": false
   }
  }
 ],
 "metadata": {
  "kernelspec": {
   "display_name": "Python 3",
   "language": "python",
   "name": "python3"
  },
  "language_info": {
   "codemirror_mode": {
    "name": "ipython",
    "version": 3
   },
   "file_extension": ".py",
   "mimetype": "text/x-python",
   "name": "python",
   "nbconvert_exporter": "python",
   "pygments_lexer": "ipython3",
   "version": "3.8.8"
  },
  "toc": {
   "base_numbering": 1,
   "nav_menu": {},
   "number_sections": true,
   "sideBar": true,
   "skip_h1_title": false,
   "title_cell": "Table of Contents",
   "title_sidebar": "Contents",
   "toc_cell": false,
   "toc_position": {},
   "toc_section_display": true,
   "toc_window_display": false
  }
 },
 "nbformat": 4,
 "nbformat_minor": 4
}
