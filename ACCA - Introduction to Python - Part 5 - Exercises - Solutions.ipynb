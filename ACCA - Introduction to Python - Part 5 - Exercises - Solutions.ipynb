{
 "cells": [
  {
   "cell_type": "markdown",
   "metadata": {},
   "source": [
    "<img src=\"https://courses.edx.org/asset-v1:ACCA+ML001+2T2021+type@asset+block@acca-logo.jpg\" alt=\"ACCA logo\" style=\"width: 400px;\"/>\n",
    "\n",
    "# Introduction to Python\n",
    "## Part 5 - Exercises - `Solutions` ✅\n",
    "\n",
    "* **Course:** __Machine learning with Python for finance professionals__ by ACCA\n",
    "* **Instructor:** [Coefficient](https://coefficient.ai) / [@CoefficientData](https://twitter.com/CoefficientData)\n",
    "\n",
    "---"
   ]
  },
  {
   "cell_type": "markdown",
   "metadata": {},
   "source": [
    "Congratulations, you have now covered the key fundamentals to get working with Python! To improve your knowledge and programming skills, regular practice is critical to embed the information covered throughout the module.\n",
    "\n",
    "This notebook contains exercises for you to test your understanding of the content covered so far. It's wise to first tackle them yourself in order to reinforce what you've learnt. If you hit any errors, copy/paste the error message into Google and see if you can figure out how to solve them yourself.\n",
    "\n",
    "Even if you feel comfortable solving these exercises, they can be solved in multiple ways, some more efficient than others. We strongly recommend you check out the solutions as there's some neat Python tips & tricks included!"
   ]
  },
  {
   "cell_type": "markdown",
   "metadata": {},
   "source": [
    "> ### 🚩 Exercise 1\n",
    "> \n",
    "> You have been provided with a list of 200 numbers, each representing the total amount due from an invoice. A payment of exactly £10,000.00 was made for some invoices, but we don't know which ones! You have been tasked with finding the two invoices that sum to 10000.\n",
    "> \n",
    "> In simple terms, **find the two numbers from the list that sum to 10000**.\n",
    "> \n",
    "> For example, suppose your invoices report contained the following:\n",
    ">```python \n",
    "> 1184.27\n",
    "> 1283.89\n",
    "> 3987.02\n",
    "> 6012.98\n",
    "> 6298.75\n",
    "> 7997.77\n",
    "> ```\n",
    ">\n",
    "> In this list, the two invoices that sum to 10000 are 3987.02 and 6012.98."
   ]
  },
  {
   "cell_type": "code",
   "execution_count": 1,
   "metadata": {},
   "outputs": [],
   "source": [
    "# Which two invoices sum to 10000?\n",
    "invoices = [\n",
    "    3156.98, 5741.76, 6285.81, 2789.09, 9476.63, 9434.73, 7572.64, 321.09, 5779.01, 2317.08,\n",
    "    736.05, 3585.60, 6089.20, 504.96, 6570.91, 874.59, 1740.26, 6610.48, 3882.67, 111.28,\n",
    "    4471.35, 2736.32, 5496.16, 1698.49, 9789.85, 9922.64, 727.68, 3162.53, 8538.63, 3279.36,\n",
    "    8208.15, 1862.54, 9613.07, 3761.58, 6513.15, 7027.79, 4951.12, 1904.82, 3957.28, 446.85,\n",
    "    7002.08, 6519.58, 644.93, 1665.60, 849.53, 4953.99, 4824.48, 8262.78, 3892.76, 6297.52,\n",
    "    3787.09, 8789.21, 6595.63, 5833.87, 1315.51, 6394.10, 1713.57, 3647.18, 1478.18, 5155.82,\n",
    "    7998.52, 2516.10, 2792.20, 8926.61, 8298.95, 9625.43, 475.18, 2370.03, 8105.16, 2377.92,\n",
    "    4405.81, 4734.28, 2059.39, 8627.45, 1926.49, 1294.41, 1330.06, 5969.54, 2387.68, 7983.72,\n",
    "    2205.27, 7082.94, 4143.00, 6262.01, 8521.51, 7509.23, 1224.84, 3589.03, 1596.35, 5492.33,\n",
    "    2720.23, 416.55, 7803.78, 1289.50, 3734.47, 7491.88, 2209.56, 1266.30, 3821.89, 8289.05,\n",
    "    6228.39, 6742.49, 830.14, 2755.48, 8111.47, 9048.47, 7348.74, 2750.60, 6007.70, 8459.98,\n",
    "    5507.28, 2026.29, 7537.75, 2447.51, 2517.41, 8800.51, 8968.01, 6834.14, 9249.43, 6043.55,\n",
    "    2691.57, 605.77, 9884.69, 2431.77, 3564.64, 4502.23, 6769.02, 505.50, 3766.30, 6450.18,\n",
    "    2314.20, 9167.63, 230.87, 8508.05, 7312.12, 3961.05, 9135.30, 3429.74, 9735.66, 9505.95,\n",
    "    8800.71, 7712.33, 4726.63, 5078.72, 9740.91, 2513.99, 1502.42, 1353.35, 8438.59, 1647.70,\n",
    "    7012.61, 5039.55, 7537.23, 1257.30, 7279.77, 8599.24, 5260.81, 9675.02, 812.49, 6093.37,\n",
    "    8576.88, 7219.41, 260.63, 6685.82, 1812.51, 9739.62, 2139.48, 2621.23, 5950.70, 1020.24,\n",
    "    301.17, 9211.22, 1047.03, 1291.06, 5965.06, 4364.19, 3487.26, 3665.12, 6001.96, 8575.88,\n",
    "    7536.67, 2078.74, 8947.27, 2022.55, 4342.10, 8411.86, 4303.16, 6355.92, 6245.04, 1348.40,\n",
    "    3912.03, 6333.90, 4804.86, 9811.86, 1226.57, 8445.80, 3406.66, 7712.23, 1568.00, 5261.75\n",
    "]"
   ]
  },
  {
   "cell_type": "markdown",
   "metadata": {},
   "source": [
    "---"
   ]
  },
  {
   "cell_type": "code",
   "execution_count": 2,
   "metadata": {},
   "outputs": [],
   "source": [
    "# ✅ SOLUTION"
   ]
  },
  {
   "cell_type": "code",
   "execution_count": 3,
   "metadata": {},
   "outputs": [],
   "source": [
    "# For simplicity, we'll start by just looking at the first 3 numbers.\n",
    "first_3 = invoices[:3]"
   ]
  },
  {
   "cell_type": "code",
   "execution_count": 4,
   "metadata": {},
   "outputs": [
    {
     "name": "stdout",
     "output_type": "stream",
     "text": [
      "315698.0\n",
      "574176.0\n",
      "628581.0\n"
     ]
    }
   ],
   "source": [
    "# For loops are OK...\n",
    "for a in first_3:\n",
    "    print(a * 100)"
   ]
  },
  {
   "cell_type": "code",
   "execution_count": 5,
   "metadata": {},
   "outputs": [
    {
     "data": {
      "text/plain": [
       "[574176.0, 628581.0]"
      ]
     },
     "execution_count": 5,
     "metadata": {},
     "output_type": "execute_result"
    }
   ],
   "source": [
    "results = []\n",
    "for a in first_3:\n",
    "    if a > 4000:\n",
    "        results.append(a * 100)\n",
    "    \n",
    "results"
   ]
  },
  {
   "cell_type": "code",
   "execution_count": 6,
   "metadata": {},
   "outputs": [
    {
     "data": {
      "text/plain": [
       "[574176.0, 628581.0]"
      ]
     },
     "execution_count": 6,
     "metadata": {},
     "output_type": "execute_result"
    }
   ],
   "source": [
    "results = [a * 100 for a in first_3 if a > 4000]\n",
    "results"
   ]
  },
  {
   "cell_type": "code",
   "execution_count": 7,
   "metadata": {},
   "outputs": [
    {
     "data": {
      "text/plain": [
       "[315698.0, 574176.0, 628581.0]"
      ]
     },
     "execution_count": 7,
     "metadata": {},
     "output_type": "execute_result"
    }
   ],
   "source": [
    "# ...but list comprehensions are great!\n",
    "[a * 100 for a in first_3]"
   ]
  },
  {
   "cell_type": "code",
   "execution_count": 8,
   "metadata": {},
   "outputs": [
    {
     "data": {
      "text/plain": [
       "[(3156.98, 3156.98),\n",
       " (3156.98, 5741.76),\n",
       " (3156.98, 6285.81),\n",
       " (5741.76, 3156.98),\n",
       " (5741.76, 5741.76),\n",
       " (5741.76, 6285.81),\n",
       " (6285.81, 3156.98),\n",
       " (6285.81, 5741.76),\n",
       " (6285.81, 6285.81)]"
      ]
     },
     "execution_count": 8,
     "metadata": {},
     "output_type": "execute_result"
    }
   ],
   "source": [
    "# Let's try a double comprehension (!)\n",
    "[(a, b) for a in first_3 for b in first_3]"
   ]
  },
  {
   "cell_type": "code",
   "execution_count": 9,
   "metadata": {},
   "outputs": [
    {
     "data": {
      "text/plain": [
       "[(3156.98, 3156.98),\n",
       " (3156.98, 5741.76),\n",
       " (3156.98, 6285.81),\n",
       " (5741.76, 5741.76),\n",
       " (5741.76, 6285.81),\n",
       " (6285.81, 6285.81)]"
      ]
     },
     "execution_count": 9,
     "metadata": {},
     "output_type": "execute_result"
    }
   ],
   "source": [
    "# We can be more efficient by not going over number pairs we already visited\n",
    "[(a, b) for a in first_3 for b in first_3[first_3.index(a) :]]"
   ]
  },
  {
   "cell_type": "code",
   "execution_count": 10,
   "metadata": {},
   "outputs": [
    {
     "name": "stdout",
     "output_type": "stream",
     "text": [
      "invoice_7 = 321.09\n",
      "position_of_invoice_7 = 7\n"
     ]
    }
   ],
   "source": [
    "# Note how we used .index() method here\n",
    "invoice_7 = invoices[7]\n",
    "print(\"invoice_7 =\", invoice_7)\n",
    "\n",
    "position_of_invoice_7 = invoices.index(invoice_7)\n",
    "print(\"position_of_invoice_7 =\", position_of_invoice_7)"
   ]
  },
  {
   "cell_type": "code",
   "execution_count": 11,
   "metadata": {},
   "outputs": [
    {
     "data": {
      "text/plain": [
       "[(2720.23, 7279.77)]"
      ]
     },
     "execution_count": 11,
     "metadata": {},
     "output_type": "execute_result"
    }
   ],
   "source": [
    "# Let's now add the if statement...\n",
    "[(a, b) for a in invoices for b in invoices[invoices.index(a) :] if a + b == 10000]"
   ]
  },
  {
   "cell_type": "code",
   "execution_count": 12,
   "metadata": {},
   "outputs": [
    {
     "data": {
      "text/plain": [
       "90"
      ]
     },
     "execution_count": 12,
     "metadata": {},
     "output_type": "execute_result"
    }
   ],
   "source": [
    "invoices.index(2720.23)"
   ]
  },
  {
   "cell_type": "code",
   "execution_count": 13,
   "metadata": {},
   "outputs": [
    {
     "data": {
      "text/plain": [
       "154"
      ]
     },
     "execution_count": 13,
     "metadata": {},
     "output_type": "execute_result"
    }
   ],
   "source": [
    "invoices.index(7279.77)"
   ]
  },
  {
   "cell_type": "markdown",
   "metadata": {},
   "source": [
    "> ### 🚩 Exercise 2\n",
    "> \n",
    "> You receive the following email from the Accounts Payable team:\n",
    "> \n",
    "> ```txt\n",
    "> Great work tracking down those two invoices! We looked into them, and unfortunately they're already accounted for. Perhaps there are THREE invoices that, together, sum up to £10,000?\n",
    "> ```\n",
    "> \n",
    "> **Find the _three_ invoices that sum to 10,000.00?**"
   ]
  },
  {
   "cell_type": "code",
   "execution_count": 14,
   "metadata": {},
   "outputs": [
    {
     "data": {
      "text/plain": [
       "[(6834.14, 1353.35, 1812.51)]"
      ]
     },
     "execution_count": 14,
     "metadata": {},
     "output_type": "execute_result"
    }
   ],
   "source": [
    "# ✅ SOLUTION\n",
    "\n",
    "# Which three items add up to 10000?\n",
    "[\n",
    "    (a, b, c)\n",
    "    for a in invoices\n",
    "    for b in invoices[invoices.index(a) :]\n",
    "    for c in invoices[invoices.index(b) :]\n",
    "    if a + b + c == 10000\n",
    "]"
   ]
  },
  {
   "cell_type": "markdown",
   "metadata": {},
   "source": [
    "> ### 🚩 Exercise 3\n",
    "> \n",
    "> We can use Python to count how many times a word is used within a sentence or document. This can be useful for text analysis projects and other types of reporting. \n",
    ">\n",
    "> First, we will provide some tips on handling text and cleaning it up ready for analysis. We will use the following sentence for this task:\n",
    ">\n",
    "> <i>\"How much wood would a woodchuck chuck if a woodchuck could chuck wood?\"</i>"
   ]
  },
  {
   "cell_type": "code",
   "execution_count": 15,
   "metadata": {},
   "outputs": [],
   "source": [
    "# Create the string variable\n",
    "sentence = \"How much wood would a woodchuck chuck if a woodchuck could chuck wood?\""
   ]
  },
  {
   "cell_type": "code",
   "execution_count": 16,
   "metadata": {},
   "outputs": [
    {
     "data": {
      "text/plain": [
       "'how much wood would a woodchuck chuck if a woodchuck could chuck wood?'"
      ]
     },
     "execution_count": 16,
     "metadata": {},
     "output_type": "execute_result"
    }
   ],
   "source": [
    "# Let's handle the capital letters by making everything lowercase\n",
    "sentence.lower()"
   ]
  },
  {
   "cell_type": "code",
   "execution_count": 17,
   "metadata": {},
   "outputs": [
    {
     "data": {
      "text/plain": [
       "'How much wood would a woodchuck chuck if a woodchuck could chuck wood'"
      ]
     },
     "execution_count": 17,
     "metadata": {},
     "output_type": "execute_result"
    }
   ],
   "source": [
    "# Remove the question mark\n",
    "sentence.replace(\"?\", \"\")"
   ]
  },
  {
   "cell_type": "code",
   "execution_count": 18,
   "metadata": {},
   "outputs": [
    {
     "data": {
      "text/plain": [
       "'how much wood would a woodchuck chuck if a woodchuck could chuck wood'"
      ]
     },
     "execution_count": 18,
     "metadata": {},
     "output_type": "execute_result"
    }
   ],
   "source": [
    "# We can use \"method chaining\" to do both in one go!\n",
    "sentence.lower().replace(\"?\", \"\")"
   ]
  },
  {
   "cell_type": "code",
   "execution_count": 19,
   "metadata": {},
   "outputs": [
    {
     "data": {
      "text/plain": [
       "['How',\n",
       " 'much',\n",
       " 'wood',\n",
       " 'would',\n",
       " 'a',\n",
       " 'woodchuck',\n",
       " 'chuck',\n",
       " 'if',\n",
       " 'a',\n",
       " 'woodchuck',\n",
       " 'could',\n",
       " 'chuck',\n",
       " 'wood?']"
      ]
     },
     "execution_count": 19,
     "metadata": {},
     "output_type": "execute_result"
    }
   ],
   "source": [
    "# You can use the split function to extract the words from the sentence\n",
    "sentence.split()"
   ]
  },
  {
   "cell_type": "code",
   "execution_count": 20,
   "metadata": {},
   "outputs": [
    {
     "data": {
      "text/plain": [
       "['how',\n",
       " 'much',\n",
       " 'wood',\n",
       " 'would',\n",
       " 'a',\n",
       " 'woodchuck',\n",
       " 'chuck',\n",
       " 'if',\n",
       " 'a',\n",
       " 'woodchuck',\n",
       " 'could',\n",
       " 'chuck',\n",
       " 'wood']"
      ]
     },
     "execution_count": 20,
     "metadata": {},
     "output_type": "execute_result"
    }
   ],
   "source": [
    "# Let's put it all together and assign to a variable ready to use in the next step\n",
    "words = sentence.lower().replace(\"?\", \"\").split()\n",
    "words"
   ]
  },
  {
   "cell_type": "markdown",
   "metadata": {},
   "source": [
    "> **Exercise:** Create a function `count_words()` that takes a single string as an argument (you can call your argument `sentence`), and returns a dictionary containing:\n",
    "> - The individual unique list of words as keys\n",
    "> - The number of times each word was used as the value\n",
    "> \n",
    "> _Example: for the phrase `I am who I am` we'd create a dictionary of word counts as follows:_\n",
    "> \n",
    "> ```python\n",
    "> {\"i\": 2, \"am\": 2, \"who\": 1}\n",
    "> ```"
   ]
  },
  {
   "cell_type": "code",
   "execution_count": 21,
   "metadata": {},
   "outputs": [
    {
     "name": "stdout",
     "output_type": "stream",
     "text": [
      "['how', 'much', 'wood', 'would', 'a', 'woodchuck', 'chuck', 'if', 'a', 'woodchuck', 'could', 'chuck', 'wood']\n"
     ]
    }
   ],
   "source": [
    "# The words list is ready to go\n",
    "print(words)"
   ]
  },
  {
   "cell_type": "code",
   "execution_count": 22,
   "metadata": {},
   "outputs": [],
   "source": [
    "# ✅ SOLUTION"
   ]
  },
  {
   "cell_type": "code",
   "execution_count": 23,
   "metadata": {},
   "outputs": [
    {
     "name": "stdout",
     "output_type": "stream",
     "text": [
      "{'how': 1, 'much': 1, 'wood': 2, 'would': 1, 'a': 2, 'woodchuck': 2, 'chuck': 2, 'if': 1, 'could': 1}\n"
     ]
    }
   ],
   "source": [
    "# Create a dictionary ready to hold the words (as keys) and their counts (as values)\n",
    "word_counts = {}\n",
    "\n",
    "# Loop through the words\n",
    "for word in words:\n",
    "\n",
    "    # Is the word in the dictionary yet?\n",
    "    if word in word_counts:\n",
    "        # If it is, add +1 to the current count\n",
    "        word_counts[word] += 1\n",
    "\n",
    "    else:\n",
    "        # If it isn't, put it in with a count of 1\n",
    "        word_counts[word] = 1\n",
    "\n",
    "print(word_counts)"
   ]
  },
  {
   "cell_type": "code",
   "execution_count": 24,
   "metadata": {},
   "outputs": [],
   "source": [
    "# Put the solution into a function called count_words()\n",
    "\n",
    "def count_words(sentence):\n",
    "    words = sentence.lower().replace(\"?\", \"\").split()\n",
    "    word_counts = {}\n",
    "    for word in words:\n",
    "        if word in word_counts:\n",
    "            word_counts[word] += 1\n",
    "        else:\n",
    "            word_counts[word] = 1\n",
    "\n",
    "    return word_counts"
   ]
  },
  {
   "cell_type": "code",
   "execution_count": 25,
   "metadata": {},
   "outputs": [
    {
     "data": {
      "text/plain": [
       "{'how': 1,\n",
       " 'much': 1,\n",
       " 'wood': 2,\n",
       " 'would': 1,\n",
       " 'a': 2,\n",
       " 'woodchuck': 2,\n",
       " 'chuck': 2,\n",
       " 'if': 1,\n",
       " 'could': 1}"
      ]
     },
     "execution_count": 25,
     "metadata": {},
     "output_type": "execute_result"
    }
   ],
   "source": [
    "# Let's test it out\n",
    "count_words(sentence)"
   ]
  },
  {
   "cell_type": "code",
   "execution_count": 26,
   "metadata": {},
   "outputs": [
    {
     "data": {
      "text/plain": [
       "50"
      ]
     },
     "execution_count": 26,
     "metadata": {},
     "output_type": "execute_result"
    }
   ],
   "source": [
    "# We can simplify our function slightly by using default values with dictionary lookups.\n",
    "\n",
    "# Let's say we have a dictionary containing everyone we owe money to, and the amount owed.\n",
    "creditors = {\"bill\": 100, \"charlie\": 50, \"percy\": 50}\n",
    "\n",
    "# We can check how much we owe someone using a dictionary lookup.\n",
    "creditors[\"charlie\"]"
   ]
  },
  {
   "cell_type": "code",
   "execution_count": 27,
   "metadata": {},
   "outputs": [
    {
     "ename": "KeyError",
     "evalue": "'george'",
     "output_type": "error",
     "traceback": [
      "\u001b[0;31m---------------------------------------------------------------------------\u001b[0m",
      "\u001b[0;31mKeyError\u001b[0m                                  Traceback (most recent call last)",
      "\u001b[0;32m<ipython-input-27-c6594c6951b3>\u001b[0m in \u001b[0;36m<module>\u001b[0;34m\u001b[0m\n\u001b[1;32m      1\u001b[0m \u001b[0;31m# This will error if you provide someone who isn't in the dictionary.\u001b[0m\u001b[0;34m\u001b[0m\u001b[0;34m\u001b[0m\u001b[0;34m\u001b[0m\u001b[0m\n\u001b[0;32m----> 2\u001b[0;31m \u001b[0mcreditors\u001b[0m\u001b[0;34m[\u001b[0m\u001b[0;34m\"george\"\u001b[0m\u001b[0;34m]\u001b[0m\u001b[0;34m\u001b[0m\u001b[0;34m\u001b[0m\u001b[0m\n\u001b[0m",
      "\u001b[0;31mKeyError\u001b[0m: 'george'"
     ]
    }
   ],
   "source": [
    "# This will error if you provide someone who isn't in the dictionary.\n",
    "creditors[\"george\"]"
   ]
  },
  {
   "cell_type": "code",
   "execution_count": 28,
   "metadata": {},
   "outputs": [
    {
     "data": {
      "text/plain": [
       "0"
      ]
     },
     "execution_count": 28,
     "metadata": {},
     "output_type": "execute_result"
    }
   ],
   "source": [
    "# Instead, let's supply a default value - this won't break now if we try someone who isn't in the dictionary.\n",
    "creditors.get(\"george\", 0)"
   ]
  },
  {
   "cell_type": "code",
   "execution_count": 29,
   "metadata": {},
   "outputs": [
    {
     "data": {
      "text/plain": [
       "50"
      ]
     },
     "execution_count": 29,
     "metadata": {},
     "output_type": "execute_result"
    }
   ],
   "source": [
    "# But for keys that ARE present, it works just the same as before.\n",
    "creditors.get(\"charlie\", 0)"
   ]
  },
  {
   "cell_type": "code",
   "execution_count": 30,
   "metadata": {},
   "outputs": [],
   "source": [
    "# Now let's use .get() with a default value to simplify our previous solution.\n",
    "\n",
    "def count_words(sentence):\n",
    "    words = sentence.lower().replace(\"?\", \"\").split()\n",
    "    word_counts = {}\n",
    "    for word in words:\n",
    "        word_counts[word] = word_counts.get(word, 0) + 1\n",
    "\n",
    "    return word_counts"
   ]
  },
  {
   "cell_type": "code",
   "execution_count": 31,
   "metadata": {},
   "outputs": [
    {
     "data": {
      "text/plain": [
       "{'how': 1,\n",
       " 'much': 1,\n",
       " 'wood': 2,\n",
       " 'would': 1,\n",
       " 'a': 2,\n",
       " 'woodchuck': 2,\n",
       " 'chuck': 2,\n",
       " 'if': 1,\n",
       " 'could': 1}"
      ]
     },
     "execution_count": 31,
     "metadata": {},
     "output_type": "execute_result"
    }
   ],
   "source": [
    "count_words(sentence)"
   ]
  },
  {
   "cell_type": "markdown",
   "metadata": {},
   "source": [
    "> ### 🚩 Exercise 4\n",
    "> \n",
    "> Repeat your word counting analysis using a text source of your choice. If you're stuck for ideas, you could try a famous speech such as [The Gettysburg Address](https://en.wikipedia.org/wiki/Gettysburg_Address#Text_of_the_Gettysburg_Address) or the [full-text minutes of the Federal Reserve](https://www.federalreserve.gov/monetarypolicy/fomccalendars.htm) or even a whole novel such as [The Great Gatsby](https://www.gutenberg.org/files/64317/64317-h/64317-h.htm)!\n",
    "> \n",
    "> We've included some tips below that you may find useful."
   ]
  },
  {
   "cell_type": "code",
   "execution_count": 32,
   "metadata": {},
   "outputs": [
    {
     "data": {
      "text/plain": [
       "['how',\n",
       " 'much',\n",
       " 'wood',\n",
       " 'would',\n",
       " 'a',\n",
       " 'woodchuck',\n",
       " 'chuck',\n",
       " 'if',\n",
       " 'a',\n",
       " 'woodchuck',\n",
       " 'could',\n",
       " 'chuck',\n",
       " 'wood']"
      ]
     },
     "execution_count": 32,
     "metadata": {},
     "output_type": "execute_result"
    }
   ],
   "source": [
    "# Tip: You may want to remove more than just question marks. You can break your method chains\n",
    "#      across multiple lines if you surround the whole chain with round brackets.\n",
    "(\n",
    "    sentence.lower()\n",
    "    .replace(\"?\", \"\")  # remove ?\n",
    "    .replace(\".\", \"\")  # remove .\n",
    "    .replace(\",\", \"\")  # remove ,\n",
    "    .split()\n",
    ")"
   ]
  },
  {
   "cell_type": "code",
   "execution_count": 33,
   "metadata": {},
   "outputs": [],
   "source": [
    "# Tip: You can copy/paste large amounts of text into a single Python string by using multi-line strings.\n",
    "#      These are specified using a pair of triple-quotes (double or single).\n",
    "\n",
    "multi_line_string = \"\"\"This text\n",
    "spans\n",
    "multiple lines.\n",
    "\"\"\""
   ]
  },
  {
   "cell_type": "code",
   "execution_count": 34,
   "metadata": {},
   "outputs": [
    {
     "name": "stdout",
     "output_type": "stream",
     "text": [
      "This text\n",
      "spans\n",
      "multiple lines.\n",
      "\n"
     ]
    }
   ],
   "source": [
    "print(multi_line_string)"
   ]
  },
  {
   "cell_type": "code",
   "execution_count": 35,
   "metadata": {},
   "outputs": [],
   "source": [
    "# Tip: Here's a function that sorts a dictionary by its values. You can use this to sort your word counts.\n",
    "def sort_dictionary(input_dictionary, reverse=True):\n",
    "    return sorted(input_dictionary.items(), key=lambda x: x[1], reverse=reverse)"
   ]
  },
  {
   "cell_type": "code",
   "execution_count": 36,
   "metadata": {},
   "outputs": [
    {
     "data": {
      "text/plain": [
       "[('ten', 10), ('six', 6), ('three', 3), ('one', 1)]"
      ]
     },
     "execution_count": 36,
     "metadata": {},
     "output_type": "execute_result"
    }
   ],
   "source": [
    "# Here's how to use it\n",
    "\n",
    "counts = {'one': 1, 'ten': 10, 'three': 3, 'six': 6}\n",
    "sort_dictionary(counts)"
   ]
  },
  {
   "cell_type": "markdown",
   "metadata": {},
   "source": [
    "---"
   ]
  },
  {
   "cell_type": "markdown",
   "metadata": {},
   "source": [
    "#### Steps:\n",
    "1. Adapt your `count_words()` function from the previous exercise so that it strips out punctuation using the code tip provided above.\n",
    "2. Try out your adapted function with a long-form piece of text of your choice, using triple quotes (`\"\"\"`) to store this information in a single multi-line string variable.\n",
    "3. Find the top 20 words in your chosen text using the `sort_dictionary()` function provided above. (This returns a list, so you can use list slicing to reduce it down to just the top 20.)"
   ]
  },
  {
   "cell_type": "code",
   "execution_count": 37,
   "metadata": {},
   "outputs": [],
   "source": [
    "# ✅ SOLUTION\n",
    "\n",
    "def count_words(sentence):\n",
    "    words = (\n",
    "        sentence.lower()\n",
    "        .replace(\"?\", \"\")  # remove ?\n",
    "        .replace(\".\", \"\")  # remove .\n",
    "        .replace(\",\", \"\")  # remove ,\n",
    "        .split()\n",
    "    )\n",
    "    word_counts = {}\n",
    "    for word in words:\n",
    "        word_counts[word] = word_counts.get(word, 0) + 1\n",
    "\n",
    "    return word_counts"
   ]
  },
  {
   "cell_type": "code",
   "execution_count": 38,
   "metadata": {},
   "outputs": [
    {
     "data": {
      "text/plain": [
       "[('the', 11),\n",
       " ('that', 10),\n",
       " ('to', 8),\n",
       " ('we', 8),\n",
       " ('here', 8),\n",
       " ('a', 7),\n",
       " ('and', 5),\n",
       " ('nation', 5),\n",
       " ('can', 5),\n",
       " ('of', 5),\n",
       " ('have', 5),\n",
       " ('for', 5),\n",
       " ('it', 5),\n",
       " ('not', 5),\n",
       " ('in', 4),\n",
       " ('dedicated', 4),\n",
       " ('this', 3),\n",
       " ('are', 3),\n",
       " ('great', 3),\n",
       " ('so', 3)]"
      ]
     },
     "execution_count": 38,
     "metadata": {},
     "output_type": "execute_result"
    }
   ],
   "source": [
    "# Gettysburg\n",
    "sentence = \"\"\"\n",
    "Four score and seven years ago our fathers brought forth upon this continent, a new nation, conceived in Liberty, and dedicated to the proposition that all men are created equal.\n",
    "Now we are engaged in a great civil war, testing whether that nation, or any nation so conceived and so dedicated, can long endure. We are met on a great battle-field of that war. We have come to dedicate a portion of that field, as a final resting place for those who here gave their lives that that nation might live. It is altogether fitting and proper that we should do this.\n",
    "\n",
    "But, in a larger sense, we can not dedicate—we can not consecrate—we can not hallow—this ground. The brave men, living and dead, who struggled here, have consecrated it, far above our poor power to add or detract. The world will little note, nor long remember what we say here, but it can never forget what they did here. It is for us the living, rather, to be dedicated here to the unfinished work which they who fought here have thus far so nobly advanced. It is rather for us to be here dedicated to the great task remaining before us—that from these honored dead we take increased devotion to that cause for which they gave the last full measure of devotion—that we here highly resolve that these dead shall not have died in vain—that this nation, under God, shall have a new birth of freedom—and that government of the people, by the people, for the people, shall not perish from the earth.\n",
    "\"\"\"\n",
    "\n",
    "sort_dictionary(count_words(sentence))[:20]"
   ]
  },
  {
   "cell_type": "code",
   "execution_count": 39,
   "metadata": {},
   "outputs": [
    {
     "data": {
      "text/plain": [
       "[('the', 2544),\n",
       " ('and', 1565),\n",
       " ('a', 1440),\n",
       " ('of', 1224),\n",
       " ('to', 1197),\n",
       " ('i', 1000),\n",
       " ('in', 849),\n",
       " ('he', 771),\n",
       " ('was', 758),\n",
       " ('that', 565),\n",
       " ('his', 488),\n",
       " ('it', 470),\n",
       " ('with', 463),\n",
       " ('you', 428),\n",
       " ('at', 411),\n",
       " ('had', 377),\n",
       " ('her', 374),\n",
       " ('on', 362),\n",
       " ('she', 353),\n",
       " ('for', 335)]"
      ]
     },
     "execution_count": 39,
     "metadata": {},
     "output_type": "execute_result"
    }
   ],
   "source": [
    "# Gatsby\n",
    "with open(\"gatsby.txt\", \"r\") as f:\n",
    "    sentence = f.read()\n",
    "\n",
    "# Top 20 words in The Great Gatsby\n",
    "top_words = sort_dictionary(count_words(sentence))\n",
    "top_words[:20]"
   ]
  },
  {
   "cell_type": "code",
   "execution_count": 40,
   "metadata": {},
   "outputs": [
    {
     "data": {
      "text/plain": [
       "[('immediately', 15),\n",
       " ('information', 12),\n",
       " ('conversation', 10),\n",
       " ('impatiently', 7),\n",
       " ('interrupted', 7),\n",
       " ('disappeared', 7),\n",
       " ('distributing', 7),\n",
       " ('living-room', 6),\n",
       " ('wolfshiem’s', 6),\n",
       " ('incessantly', 6),\n",
       " ('distribution', 6),\n",
       " ('interesting', 5),\n",
       " ('incredulously', 5),\n",
       " ('continually', 5),\n",
       " ('embarrassment', 5),\n",
       " ('klipspringer', 5),\n",
       " ('replacement', 5)]"
      ]
     },
     "execution_count": 40,
     "metadata": {},
     "output_type": "execute_result"
    }
   ],
   "source": [
    "# Most used words with more than 10 letters (must have 4+ occurrences)\n",
    "[(word, count) for (word, count) in top_words\n",
    " if len(word) > 10 and count > 4]"
   ]
  },
  {
   "cell_type": "markdown",
   "metadata": {},
   "source": [
    "---\n",
    "<div class=\"alert alert-block alert-success\">\n",
    "<b>🎉 Congratulations</b><br>\n",
    "You have reached the end of this module.\n",
    "</div>"
   ]
  }
 ],
 "metadata": {
  "kernelspec": {
   "display_name": "Python 3",
   "language": "python",
   "name": "python3"
  },
  "language_info": {
   "codemirror_mode": {
    "name": "ipython",
    "version": 3
   },
   "file_extension": ".py",
   "mimetype": "text/x-python",
   "name": "python",
   "nbconvert_exporter": "python",
   "pygments_lexer": "ipython3",
   "version": "3.8.8"
  },
  "toc": {
   "base_numbering": 1,
   "nav_menu": {},
   "number_sections": true,
   "sideBar": true,
   "skip_h1_title": false,
   "title_cell": "Table of Contents",
   "title_sidebar": "Contents",
   "toc_cell": false,
   "toc_position": {},
   "toc_section_display": true,
   "toc_window_display": false
  }
 },
 "nbformat": 4,
 "nbformat_minor": 4
}
