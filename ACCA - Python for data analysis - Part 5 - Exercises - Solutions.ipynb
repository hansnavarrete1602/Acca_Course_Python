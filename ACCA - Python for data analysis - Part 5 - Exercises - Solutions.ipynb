{
 "cells": [
  {
   "cell_type": "markdown",
   "metadata": {},
   "source": [
    "<img src=\"https://courses.edx.org/asset-v1:ACCA+ML001+2T2021+type@asset+block@acca-logo.jpg\" alt=\"ACCA logo\" style=\"width: 400px;\"/>\n",
    "\n",
    "# Python for data analysis\n",
    "## Part 5 - Exercises - `Solutions` ✅\n",
    "\n",
    "* **Course:** __Machine learning with Python for finance professionals__ by ACCA\n",
    "* **Instructor:** [Coefficient](https://coefficient.ai) / [@CoefficientData](https://twitter.com/CoefficientData)\n",
    "\n",
    "---"
   ]
  },
  {
   "cell_type": "code",
   "execution_count": 1,
   "metadata": {},
   "outputs": [],
   "source": [
    "import numpy as np\n",
    "import pandas as pd\n",
    "import seaborn as sns\n",
    "from matplotlib import pyplot as plt"
   ]
  },
  {
   "cell_type": "markdown",
   "metadata": {},
   "source": [
    "> ### 🚩 Exercise 1\n",
    "> So far we've been working with only 2019 data. Let's now read in the full Dream Destination dataset containing 66k orders across a ten year period from 2010-2019.\n",
    "> \n",
    "> 1. Using `pd.read_excel()` read in the `\"Order Database\"` sheet from the file `\"Hotel Industry - Order and Finance Database.xlsx\"`.\n",
    "> 2. As before, assign it to a variable called `orders`.\n",
    "> \n",
    "> Tips:\n",
    "> - Make sure you read in the correct file. This file contains a lot more data!\n",
    "> - It may take a little while to read in the file from Excel format, but once it's read into pandas you'll find calculations and analysis in pandas is lightning fast compared to doing the same in Excel."
   ]
  },
  {
   "cell_type": "code",
   "execution_count": 2,
   "metadata": {},
   "outputs": [
    {
     "data": {
      "text/html": [
       "<div>\n",
       "<style scoped>\n",
       "    .dataframe tbody tr th:only-of-type {\n",
       "        vertical-align: middle;\n",
       "    }\n",
       "\n",
       "    .dataframe tbody tr th {\n",
       "        vertical-align: top;\n",
       "    }\n",
       "\n",
       "    .dataframe thead th {\n",
       "        text-align: right;\n",
       "    }\n",
       "</style>\n",
       "<table border=\"1\" class=\"dataframe\">\n",
       "  <thead>\n",
       "    <tr style=\"text-align: right;\">\n",
       "      <th></th>\n",
       "      <th>Booking ID</th>\n",
       "      <th>Date of Booking</th>\n",
       "      <th>Year</th>\n",
       "      <th>Time</th>\n",
       "      <th>Customer ID</th>\n",
       "      <th>Gender</th>\n",
       "      <th>Age</th>\n",
       "      <th>Origin Country</th>\n",
       "      <th>State</th>\n",
       "      <th>Location</th>\n",
       "      <th>Destination Country</th>\n",
       "      <th>Destination City</th>\n",
       "      <th>No. Of People</th>\n",
       "      <th>Check-in date</th>\n",
       "      <th>No. Of Days</th>\n",
       "      <th>Check-Out Date</th>\n",
       "      <th>Rooms</th>\n",
       "      <th>Hotel Name</th>\n",
       "      <th>Hotel Rating</th>\n",
       "    </tr>\n",
       "  </thead>\n",
       "  <tbody>\n",
       "    <tr>\n",
       "      <th>0</th>\n",
       "      <td>DDMY00001</td>\n",
       "      <td>2010-01-01</td>\n",
       "      <td>2010</td>\n",
       "      <td>10:49:40</td>\n",
       "      <td>MY00001</td>\n",
       "      <td>Male</td>\n",
       "      <td>42</td>\n",
       "      <td>Malaysia</td>\n",
       "      <td>Johor</td>\n",
       "      <td>Iskandar Puteri</td>\n",
       "      <td>Denmark</td>\n",
       "      <td>Horsens</td>\n",
       "      <td>1</td>\n",
       "      <td>2010-01-12</td>\n",
       "      <td>8</td>\n",
       "      <td>2010-01-20</td>\n",
       "      <td>1</td>\n",
       "      <td>Hotel Triton</td>\n",
       "      <td>4.3</td>\n",
       "    </tr>\n",
       "    <tr>\n",
       "      <th>1</th>\n",
       "      <td>DDID00002</td>\n",
       "      <td>2010-01-01</td>\n",
       "      <td>2010</td>\n",
       "      <td>09:19:47</td>\n",
       "      <td>ID00001</td>\n",
       "      <td>Female</td>\n",
       "      <td>44</td>\n",
       "      <td>Indonesia</td>\n",
       "      <td>Ciawi</td>\n",
       "      <td>West Java</td>\n",
       "      <td>Colombia</td>\n",
       "      <td>Medellin</td>\n",
       "      <td>3</td>\n",
       "      <td>2010-01-21</td>\n",
       "      <td>1</td>\n",
       "      <td>2010-01-22</td>\n",
       "      <td>2</td>\n",
       "      <td>Enchanted Isle</td>\n",
       "      <td>4.2</td>\n",
       "    </tr>\n",
       "    <tr>\n",
       "      <th>2</th>\n",
       "      <td>DDSG00003</td>\n",
       "      <td>2010-01-01</td>\n",
       "      <td>2010</td>\n",
       "      <td>11:52:56</td>\n",
       "      <td>SG00001</td>\n",
       "      <td>Female</td>\n",
       "      <td>31</td>\n",
       "      <td>Singapore</td>\n",
       "      <td>Central</td>\n",
       "      <td>Rochor</td>\n",
       "      <td>Germany</td>\n",
       "      <td>Munich</td>\n",
       "      <td>3</td>\n",
       "      <td>2010-01-02</td>\n",
       "      <td>7</td>\n",
       "      <td>2010-01-09</td>\n",
       "      <td>2</td>\n",
       "      <td>Seacoast Hotel</td>\n",
       "      <td>4.5</td>\n",
       "    </tr>\n",
       "  </tbody>\n",
       "</table>\n",
       "</div>"
      ],
      "text/plain": [
       "  Booking ID Date of Booking  Year      Time Customer ID  Gender  Age  \\\n",
       "0  DDMY00001      2010-01-01  2010  10:49:40     MY00001    Male   42   \n",
       "1  DDID00002      2010-01-01  2010  09:19:47     ID00001  Female   44   \n",
       "2  DDSG00003      2010-01-01  2010  11:52:56     SG00001  Female   31   \n",
       "\n",
       "  Origin Country    State         Location Destination Country  \\\n",
       "0       Malaysia    Johor  Iskandar Puteri             Denmark   \n",
       "1      Indonesia    Ciawi        West Java            Colombia   \n",
       "2      Singapore  Central           Rochor             Germany   \n",
       "\n",
       "  Destination City  No. Of People Check-in date  No. Of Days Check-Out Date  \\\n",
       "0          Horsens              1    2010-01-12            8     2010-01-20   \n",
       "1         Medellin              3    2010-01-21            1     2010-01-22   \n",
       "2           Munich              3    2010-01-02            7     2010-01-09   \n",
       "\n",
       "   Rooms      Hotel Name  Hotel Rating  \n",
       "0      1    Hotel Triton           4.3  \n",
       "1      2  Enchanted Isle           4.2  \n",
       "2      2  Seacoast Hotel           4.5  "
      ]
     },
     "execution_count": 2,
     "metadata": {},
     "output_type": "execute_result"
    }
   ],
   "source": [
    "# ✅ SOLUTION\n",
    "\n",
    "# Read in the Dream Destination hotel data\n",
    "orders = pd.read_excel(\"Hotel Industry - Order and Finance Database.xlsx\",\n",
    "                       sheet_name=\"Order Database\")\n",
    "orders.head(3)"
   ]
  },
  {
   "cell_type": "markdown",
   "metadata": {},
   "source": [
    "---"
   ]
  },
  {
   "cell_type": "code",
   "execution_count": 3,
   "metadata": {},
   "outputs": [
    {
     "data": {
      "image/png": "[encoded data removed]",
      "text/plain": [
       "<Figure size 432x288 with 1 Axes>"
      ]
     },
     "metadata": {
      "needs_background": "light"
     },
     "output_type": "display_data"
    }
   ],
   "source": [
    "# Let's visualise how many orders there are by year (this should be pretty fast!)\n",
    "orders.Year.hist();"
   ]
  },
  {
   "cell_type": "markdown",
   "metadata": {},
   "source": [
    "---"
   ]
  },
  {
   "cell_type": "markdown",
   "metadata": {},
   "source": [
    "> ### 🚩 Exercise 2\n",
    "> \n",
    "> Read in the `\"Finance Database\"` sheet from the same Excel file, and assign it to a variable called `finance`."
   ]
  },
  {
   "cell_type": "code",
   "execution_count": 4,
   "metadata": {},
   "outputs": [
    {
     "data": {
      "text/html": [
       "<div>\n",
       "<style scoped>\n",
       "    .dataframe tbody tr th:only-of-type {\n",
       "        vertical-align: middle;\n",
       "    }\n",
       "\n",
       "    .dataframe tbody tr th {\n",
       "        vertical-align: top;\n",
       "    }\n",
       "\n",
       "    .dataframe thead th {\n",
       "        text-align: right;\n",
       "    }\n",
       "</style>\n",
       "<table border=\"1\" class=\"dataframe\">\n",
       "  <thead>\n",
       "    <tr style=\"text-align: right;\">\n",
       "      <th></th>\n",
       "      <th>Booking ID</th>\n",
       "      <th>Date of Booking</th>\n",
       "      <th>Year</th>\n",
       "      <th>Time</th>\n",
       "      <th>Customer ID</th>\n",
       "      <th>Origin Country</th>\n",
       "      <th>State</th>\n",
       "      <th>Location</th>\n",
       "      <th>Payment Mode</th>\n",
       "      <th>Bank Name</th>\n",
       "      <th>No. Of Days</th>\n",
       "      <th>Rooms</th>\n",
       "      <th>Booking Price[SGD]</th>\n",
       "      <th>Discount</th>\n",
       "      <th>GST</th>\n",
       "      <th>Profit Margin</th>\n",
       "    </tr>\n",
       "  </thead>\n",
       "  <tbody>\n",
       "    <tr>\n",
       "      <th>0</th>\n",
       "      <td>DDMY00001</td>\n",
       "      <td>2010-01-01</td>\n",
       "      <td>2010</td>\n",
       "      <td>10:49:40</td>\n",
       "      <td>MY00001</td>\n",
       "      <td>Malaysia</td>\n",
       "      <td>Johor</td>\n",
       "      <td>Iskandar Puteri</td>\n",
       "      <td>Wallet</td>\n",
       "      <td>United Overseas Bank (UOB)</td>\n",
       "      <td>8</td>\n",
       "      <td>1</td>\n",
       "      <td>243</td>\n",
       "      <td>0.01</td>\n",
       "      <td>0.07</td>\n",
       "      <td>0.25</td>\n",
       "    </tr>\n",
       "    <tr>\n",
       "      <th>1</th>\n",
       "      <td>DDID00002</td>\n",
       "      <td>2010-01-01</td>\n",
       "      <td>2010</td>\n",
       "      <td>09:19:47</td>\n",
       "      <td>ID00001</td>\n",
       "      <td>Indonesia</td>\n",
       "      <td>Ciawi</td>\n",
       "      <td>West Java</td>\n",
       "      <td>Wallet</td>\n",
       "      <td>EZ-Link</td>\n",
       "      <td>1</td>\n",
       "      <td>2</td>\n",
       "      <td>312</td>\n",
       "      <td>0.00</td>\n",
       "      <td>0.07</td>\n",
       "      <td>0.24</td>\n",
       "    </tr>\n",
       "    <tr>\n",
       "      <th>2</th>\n",
       "      <td>DDSG00003</td>\n",
       "      <td>2010-01-01</td>\n",
       "      <td>2010</td>\n",
       "      <td>11:52:56</td>\n",
       "      <td>SG00001</td>\n",
       "      <td>Singapore</td>\n",
       "      <td>Central</td>\n",
       "      <td>Rochor</td>\n",
       "      <td>Credit Card</td>\n",
       "      <td>Grab</td>\n",
       "      <td>7</td>\n",
       "      <td>2</td>\n",
       "      <td>338</td>\n",
       "      <td>0.19</td>\n",
       "      <td>0.07</td>\n",
       "      <td>0.20</td>\n",
       "    </tr>\n",
       "  </tbody>\n",
       "</table>\n",
       "</div>"
      ],
      "text/plain": [
       "  Booking ID Date of Booking  Year      Time Customer ID Origin Country  \\\n",
       "0  DDMY00001      2010-01-01  2010  10:49:40     MY00001       Malaysia   \n",
       "1  DDID00002      2010-01-01  2010  09:19:47     ID00001      Indonesia   \n",
       "2  DDSG00003      2010-01-01  2010  11:52:56     SG00001      Singapore   \n",
       "\n",
       "     State         Location Payment Mode                   Bank Name  \\\n",
       "0    Johor  Iskandar Puteri       Wallet  United Overseas Bank (UOB)   \n",
       "1    Ciawi        West Java       Wallet                     EZ-Link   \n",
       "2  Central           Rochor  Credit Card                        Grab   \n",
       "\n",
       "   No. Of Days  Rooms  Booking Price[SGD]  Discount   GST  Profit Margin  \n",
       "0            8      1                 243      0.01  0.07           0.25  \n",
       "1            1      2                 312      0.00  0.07           0.24  \n",
       "2            7      2                 338      0.19  0.07           0.20  "
      ]
     },
     "execution_count": 4,
     "metadata": {},
     "output_type": "execute_result"
    }
   ],
   "source": [
    "# ✅ SOLUTION\n",
    "\n",
    "finance = pd.read_excel(\"Hotel Industry - Order and Finance Database.xlsx\",\n",
    "                       sheet_name=\"Finance Database\")\n",
    "finance.head(3)"
   ]
  },
  {
   "cell_type": "markdown",
   "metadata": {},
   "source": [
    "---"
   ]
  },
  {
   "cell_type": "code",
   "execution_count": 5,
   "metadata": {},
   "outputs": [
    {
     "data": {
      "image/png": "[encoded data removed]",
      "text/plain": [
       "<Figure size 432x288 with 1 Axes>"
      ]
     },
     "metadata": {
      "needs_background": "light"
     },
     "output_type": "display_data"
    }
   ],
   "source": [
    "# What's the distribution of Booking Price (in SGD)?\n",
    "finance['Booking Price[SGD]'].hist();"
   ]
  },
  {
   "cell_type": "markdown",
   "metadata": {},
   "source": [
    "We'd like to join `orders` and `finance` into a single dataframe, but first we must eliminate columns that appear in both databases."
   ]
  },
  {
   "cell_type": "code",
   "execution_count": 6,
   "metadata": {},
   "outputs": [
    {
     "data": {
      "text/plain": [
       "{'Age',\n",
       " 'Check-Out Date',\n",
       " 'Check-in date',\n",
       " 'Destination City',\n",
       " 'Destination Country',\n",
       " 'Gender',\n",
       " 'Hotel Name',\n",
       " 'Hotel Rating',\n",
       " 'No. Of People'}"
      ]
     },
     "execution_count": 6,
     "metadata": {},
     "output_type": "execute_result"
    }
   ],
   "source": [
    "set(orders.columns) - set(finance.columns)"
   ]
  },
  {
   "cell_type": "code",
   "execution_count": 7,
   "metadata": {},
   "outputs": [
    {
     "data": {
      "text/plain": [
       "{'Bank Name',\n",
       " 'Booking Price[SGD]',\n",
       " 'Discount',\n",
       " 'GST',\n",
       " 'Payment Mode',\n",
       " 'Profit Margin'}"
      ]
     },
     "execution_count": 7,
     "metadata": {},
     "output_type": "execute_result"
    }
   ],
   "source": [
    "# Some neat set logic to determine \"which columns are in finance but not in orders?\"\n",
    "finance_only_cols = set(finance.columns) - set(orders.columns)\n",
    "finance_only_cols"
   ]
  },
  {
   "cell_type": "code",
   "execution_count": 8,
   "metadata": {},
   "outputs": [
    {
     "data": {
      "text/html": [
       "<div>\n",
       "<style scoped>\n",
       "    .dataframe tbody tr th:only-of-type {\n",
       "        vertical-align: middle;\n",
       "    }\n",
       "\n",
       "    .dataframe tbody tr th {\n",
       "        vertical-align: top;\n",
       "    }\n",
       "\n",
       "    .dataframe thead th {\n",
       "        text-align: right;\n",
       "    }\n",
       "</style>\n",
       "<table border=\"1\" class=\"dataframe\">\n",
       "  <thead>\n",
       "    <tr style=\"text-align: right;\">\n",
       "      <th></th>\n",
       "      <th>Booking ID</th>\n",
       "      <th>GST</th>\n",
       "      <th>Bank Name</th>\n",
       "      <th>Discount</th>\n",
       "      <th>Booking Price[SGD]</th>\n",
       "      <th>Payment Mode</th>\n",
       "      <th>Profit Margin</th>\n",
       "    </tr>\n",
       "  </thead>\n",
       "  <tbody>\n",
       "    <tr>\n",
       "      <th>0</th>\n",
       "      <td>DDMY00001</td>\n",
       "      <td>0.07</td>\n",
       "      <td>United Overseas Bank (UOB)</td>\n",
       "      <td>0.01</td>\n",
       "      <td>243</td>\n",
       "      <td>Wallet</td>\n",
       "      <td>0.25</td>\n",
       "    </tr>\n",
       "    <tr>\n",
       "      <th>1</th>\n",
       "      <td>DDID00002</td>\n",
       "      <td>0.07</td>\n",
       "      <td>EZ-Link</td>\n",
       "      <td>0.00</td>\n",
       "      <td>312</td>\n",
       "      <td>Wallet</td>\n",
       "      <td>0.24</td>\n",
       "    </tr>\n",
       "    <tr>\n",
       "      <th>2</th>\n",
       "      <td>DDSG00003</td>\n",
       "      <td>0.07</td>\n",
       "      <td>Grab</td>\n",
       "      <td>0.19</td>\n",
       "      <td>338</td>\n",
       "      <td>Credit Card</td>\n",
       "      <td>0.20</td>\n",
       "    </tr>\n",
       "  </tbody>\n",
       "</table>\n",
       "</div>"
      ],
      "text/plain": [
       "  Booking ID   GST                   Bank Name  Discount  Booking Price[SGD]  \\\n",
       "0  DDMY00001  0.07  United Overseas Bank (UOB)      0.01                 243   \n",
       "1  DDID00002  0.07                     EZ-Link      0.00                 312   \n",
       "2  DDSG00003  0.07                        Grab      0.19                 338   \n",
       "\n",
       "  Payment Mode  Profit Margin  \n",
       "0       Wallet           0.25  \n",
       "1       Wallet           0.24  \n",
       "2  Credit Card           0.20  "
      ]
     },
     "execution_count": 8,
     "metadata": {},
     "output_type": "execute_result"
    }
   ],
   "source": [
    "# We will reduce the finance table to only columns unique to this table plus Booking ID (to join on).\n",
    "finance = finance[['Booking ID'] + list(finance_only_cols)]\n",
    "finance.head(3)"
   ]
  },
  {
   "cell_type": "markdown",
   "metadata": {},
   "source": [
    "---"
   ]
  },
  {
   "cell_type": "markdown",
   "metadata": {},
   "source": [
    "> ### 🚩 Exercise 3\n",
    "> \n",
    "> Join the `orders` dataframe to the `finance` dataframe using a left join on `Booking ID`. Assign the resulting merged data to a variable called `df`.\n",
    "> \n",
    "> Use `len(df)` to calculate how many rows are in the combined table."
   ]
  },
  {
   "cell_type": "code",
   "execution_count": 9,
   "metadata": {},
   "outputs": [],
   "source": [
    "# ✅ SOLUTION\n",
    "\n",
    "df = pd.merge(left=orders, right=finance, on='Booking ID', how='left')"
   ]
  },
  {
   "cell_type": "code",
   "execution_count": 10,
   "metadata": {},
   "outputs": [
    {
     "data": {
      "text/plain": [
       "66535"
      ]
     },
     "execution_count": 10,
     "metadata": {},
     "output_type": "execute_result"
    }
   ],
   "source": [
    "len(df)"
   ]
  },
  {
   "cell_type": "code",
   "execution_count": 11,
   "metadata": {},
   "outputs": [
    {
     "data": {
      "text/plain": [
       "Index(['Booking ID', 'Date of Booking', 'Year', 'Time', 'Customer ID',\n",
       "       'Gender', 'Age', 'Origin Country', 'State', 'Location',\n",
       "       'Destination Country', 'Destination City', 'No. Of People',\n",
       "       'Check-in date', 'No. Of Days', 'Check-Out Date', 'Rooms', 'Hotel Name',\n",
       "       'Hotel Rating', 'GST', 'Bank Name', 'Discount', 'Booking Price[SGD]',\n",
       "       'Payment Mode', 'Profit Margin'],\n",
       "      dtype='object')"
      ]
     },
     "execution_count": 11,
     "metadata": {},
     "output_type": "execute_result"
    }
   ],
   "source": [
    "df.columns"
   ]
  },
  {
   "cell_type": "code",
   "execution_count": 12,
   "metadata": {},
   "outputs": [
    {
     "data": {
      "text/html": [
       "<div>\n",
       "<style scoped>\n",
       "    .dataframe tbody tr th:only-of-type {\n",
       "        vertical-align: middle;\n",
       "    }\n",
       "\n",
       "    .dataframe tbody tr th {\n",
       "        vertical-align: top;\n",
       "    }\n",
       "\n",
       "    .dataframe thead th {\n",
       "        text-align: right;\n",
       "    }\n",
       "</style>\n",
       "<table border=\"1\" class=\"dataframe\">\n",
       "  <thead>\n",
       "    <tr style=\"text-align: right;\">\n",
       "      <th></th>\n",
       "      <th>Booking ID</th>\n",
       "      <th>Date of Booking</th>\n",
       "      <th>Year</th>\n",
       "      <th>Time</th>\n",
       "      <th>Customer ID</th>\n",
       "      <th>Gender</th>\n",
       "      <th>Age</th>\n",
       "      <th>Origin Country</th>\n",
       "      <th>State</th>\n",
       "      <th>Location</th>\n",
       "      <th>...</th>\n",
       "      <th>Check-Out Date</th>\n",
       "      <th>Rooms</th>\n",
       "      <th>Hotel Name</th>\n",
       "      <th>Hotel Rating</th>\n",
       "      <th>GST</th>\n",
       "      <th>Bank Name</th>\n",
       "      <th>Discount</th>\n",
       "      <th>Booking Price[SGD]</th>\n",
       "      <th>Payment Mode</th>\n",
       "      <th>Profit Margin</th>\n",
       "    </tr>\n",
       "  </thead>\n",
       "  <tbody>\n",
       "    <tr>\n",
       "      <th>0</th>\n",
       "      <td>DDMY00001</td>\n",
       "      <td>2010-01-01</td>\n",
       "      <td>2010</td>\n",
       "      <td>10:49:40</td>\n",
       "      <td>MY00001</td>\n",
       "      <td>Male</td>\n",
       "      <td>42</td>\n",
       "      <td>Malaysia</td>\n",
       "      <td>Johor</td>\n",
       "      <td>Iskandar Puteri</td>\n",
       "      <td>...</td>\n",
       "      <td>2010-01-20</td>\n",
       "      <td>1</td>\n",
       "      <td>Hotel Triton</td>\n",
       "      <td>4.3</td>\n",
       "      <td>0.07</td>\n",
       "      <td>United Overseas Bank (UOB)</td>\n",
       "      <td>0.01</td>\n",
       "      <td>243</td>\n",
       "      <td>Wallet</td>\n",
       "      <td>0.25</td>\n",
       "    </tr>\n",
       "    <tr>\n",
       "      <th>1</th>\n",
       "      <td>DDID00002</td>\n",
       "      <td>2010-01-01</td>\n",
       "      <td>2010</td>\n",
       "      <td>09:19:47</td>\n",
       "      <td>ID00001</td>\n",
       "      <td>Female</td>\n",
       "      <td>44</td>\n",
       "      <td>Indonesia</td>\n",
       "      <td>Ciawi</td>\n",
       "      <td>West Java</td>\n",
       "      <td>...</td>\n",
       "      <td>2010-01-22</td>\n",
       "      <td>2</td>\n",
       "      <td>Enchanted Isle</td>\n",
       "      <td>4.2</td>\n",
       "      <td>0.07</td>\n",
       "      <td>EZ-Link</td>\n",
       "      <td>0.00</td>\n",
       "      <td>312</td>\n",
       "      <td>Wallet</td>\n",
       "      <td>0.24</td>\n",
       "    </tr>\n",
       "    <tr>\n",
       "      <th>2</th>\n",
       "      <td>DDSG00003</td>\n",
       "      <td>2010-01-01</td>\n",
       "      <td>2010</td>\n",
       "      <td>11:52:56</td>\n",
       "      <td>SG00001</td>\n",
       "      <td>Female</td>\n",
       "      <td>31</td>\n",
       "      <td>Singapore</td>\n",
       "      <td>Central</td>\n",
       "      <td>Rochor</td>\n",
       "      <td>...</td>\n",
       "      <td>2010-01-09</td>\n",
       "      <td>2</td>\n",
       "      <td>Seacoast Hotel</td>\n",
       "      <td>4.5</td>\n",
       "      <td>0.07</td>\n",
       "      <td>Grab</td>\n",
       "      <td>0.19</td>\n",
       "      <td>338</td>\n",
       "      <td>Credit Card</td>\n",
       "      <td>0.20</td>\n",
       "    </tr>\n",
       "    <tr>\n",
       "      <th>3</th>\n",
       "      <td>DDSG00004</td>\n",
       "      <td>2010-01-01</td>\n",
       "      <td>2010</td>\n",
       "      <td>13:44:40</td>\n",
       "      <td>SG00002</td>\n",
       "      <td>Male</td>\n",
       "      <td>28</td>\n",
       "      <td>Singapore</td>\n",
       "      <td>North</td>\n",
       "      <td>Yishun</td>\n",
       "      <td>...</td>\n",
       "      <td>2010-02-19</td>\n",
       "      <td>2</td>\n",
       "      <td>Night In Paradise</td>\n",
       "      <td>4.2</td>\n",
       "      <td>0.07</td>\n",
       "      <td>DBS Paylah</td>\n",
       "      <td>0.19</td>\n",
       "      <td>254</td>\n",
       "      <td>Debit Card</td>\n",
       "      <td>0.13</td>\n",
       "    </tr>\n",
       "    <tr>\n",
       "      <th>4</th>\n",
       "      <td>DDKH00005</td>\n",
       "      <td>2010-01-01</td>\n",
       "      <td>2010</td>\n",
       "      <td>05:38:26</td>\n",
       "      <td>KH00001</td>\n",
       "      <td>Male</td>\n",
       "      <td>44</td>\n",
       "      <td>Cambodia</td>\n",
       "      <td>Phnom Trop</td>\n",
       "      <td>Pursat</td>\n",
       "      <td>...</td>\n",
       "      <td>2010-01-06</td>\n",
       "      <td>3</td>\n",
       "      <td>Tiny Digs Hotel</td>\n",
       "      <td>4.6</td>\n",
       "      <td>0.07</td>\n",
       "      <td>Bank of Singapore (BOS)</td>\n",
       "      <td>0.15</td>\n",
       "      <td>313</td>\n",
       "      <td>Wallet</td>\n",
       "      <td>0.17</td>\n",
       "    </tr>\n",
       "  </tbody>\n",
       "</table>\n",
       "<p>5 rows × 25 columns</p>\n",
       "</div>"
      ],
      "text/plain": [
       "  Booking ID Date of Booking  Year      Time Customer ID  Gender  Age  \\\n",
       "0  DDMY00001      2010-01-01  2010  10:49:40     MY00001    Male   42   \n",
       "1  DDID00002      2010-01-01  2010  09:19:47     ID00001  Female   44   \n",
       "2  DDSG00003      2010-01-01  2010  11:52:56     SG00001  Female   31   \n",
       "3  DDSG00004      2010-01-01  2010  13:44:40     SG00002    Male   28   \n",
       "4  DDKH00005      2010-01-01  2010  05:38:26     KH00001    Male   44   \n",
       "\n",
       "  Origin Country       State         Location  ... Check-Out Date Rooms  \\\n",
       "0       Malaysia       Johor  Iskandar Puteri  ...     2010-01-20     1   \n",
       "1      Indonesia       Ciawi        West Java  ...     2010-01-22     2   \n",
       "2      Singapore     Central           Rochor  ...     2010-01-09     2   \n",
       "3      Singapore       North           Yishun  ...     2010-02-19     2   \n",
       "4       Cambodia  Phnom Trop           Pursat  ...     2010-01-06     3   \n",
       "\n",
       "          Hotel Name Hotel Rating   GST                   Bank Name  Discount  \\\n",
       "0       Hotel Triton          4.3  0.07  United Overseas Bank (UOB)      0.01   \n",
       "1     Enchanted Isle          4.2  0.07                     EZ-Link      0.00   \n",
       "2     Seacoast Hotel          4.5  0.07                        Grab      0.19   \n",
       "3  Night In Paradise          4.2  0.07                  DBS Paylah      0.19   \n",
       "4    Tiny Digs Hotel          4.6  0.07     Bank of Singapore (BOS)      0.15   \n",
       "\n",
       "  Booking Price[SGD]  Payment Mode  Profit Margin  \n",
       "0                243        Wallet           0.25  \n",
       "1                312        Wallet           0.24  \n",
       "2                338   Credit Card           0.20  \n",
       "3                254    Debit Card           0.13  \n",
       "4                313        Wallet           0.17  \n",
       "\n",
       "[5 rows x 25 columns]"
      ]
     },
     "execution_count": 12,
     "metadata": {},
     "output_type": "execute_result"
    }
   ],
   "source": [
    "df.head()"
   ]
  },
  {
   "cell_type": "markdown",
   "metadata": {},
   "source": [
    "---\n",
    "> ### 🚩 Exercise 4\n",
    "> \n",
    "> **Create calculated columns** as follows:\n",
    "> \n",
    "> **`Total Booking Amount`**` = Rooms * No. Of Days * Booking Price[SGD]`\n",
    "> \n",
    "> **`Discount Amount`**` = Rooms * No. Of Days * Booking Price[SGD] * Discount`\n",
    "> \n",
    "> **`Net Sales`**` = Total Booking Amount - Discount Amount`\n",
    "> \n",
    "> **`Gross Sales`**` = Net Sales * 1 + GST`\n",
    "> \n",
    "> **`Revenue`**` = Net Sales * Profit Margin`"
   ]
  },
  {
   "cell_type": "code",
   "execution_count": 13,
   "metadata": {},
   "outputs": [],
   "source": [
    "# Remember you can easily create columns from other columns\n",
    "df['People Per Room'] = df['No. Of People'] / df['Rooms']"
   ]
  },
  {
   "cell_type": "markdown",
   "metadata": {},
   "source": [
    "---"
   ]
  },
  {
   "cell_type": "code",
   "execution_count": 14,
   "metadata": {},
   "outputs": [],
   "source": [
    "# ✅ SOLUTIONS"
   ]
  },
  {
   "cell_type": "code",
   "execution_count": 15,
   "metadata": {},
   "outputs": [],
   "source": [
    "df['Total Booking Amount'] = df['Rooms'] * df['No. Of Days'] * df['Booking Price[SGD]']"
   ]
  },
  {
   "cell_type": "code",
   "execution_count": 16,
   "metadata": {},
   "outputs": [
    {
     "data": {
      "text/html": [
       "<div>\n",
       "<style scoped>\n",
       "    .dataframe tbody tr th:only-of-type {\n",
       "        vertical-align: middle;\n",
       "    }\n",
       "\n",
       "    .dataframe tbody tr th {\n",
       "        vertical-align: top;\n",
       "    }\n",
       "\n",
       "    .dataframe thead th {\n",
       "        text-align: right;\n",
       "    }\n",
       "</style>\n",
       "<table border=\"1\" class=\"dataframe\">\n",
       "  <thead>\n",
       "    <tr style=\"text-align: right;\">\n",
       "      <th></th>\n",
       "      <th>Rooms</th>\n",
       "      <th>No. Of Days</th>\n",
       "      <th>Booking Price[SGD]</th>\n",
       "      <th>Total Booking Amount</th>\n",
       "    </tr>\n",
       "  </thead>\n",
       "  <tbody>\n",
       "    <tr>\n",
       "      <th>0</th>\n",
       "      <td>1</td>\n",
       "      <td>8</td>\n",
       "      <td>243</td>\n",
       "      <td>1944</td>\n",
       "    </tr>\n",
       "    <tr>\n",
       "      <th>1</th>\n",
       "      <td>2</td>\n",
       "      <td>1</td>\n",
       "      <td>312</td>\n",
       "      <td>624</td>\n",
       "    </tr>\n",
       "    <tr>\n",
       "      <th>2</th>\n",
       "      <td>2</td>\n",
       "      <td>7</td>\n",
       "      <td>338</td>\n",
       "      <td>4732</td>\n",
       "    </tr>\n",
       "  </tbody>\n",
       "</table>\n",
       "</div>"
      ],
      "text/plain": [
       "   Rooms  No. Of Days  Booking Price[SGD]  Total Booking Amount\n",
       "0      1            8                 243                  1944\n",
       "1      2            1                 312                   624\n",
       "2      2            7                 338                  4732"
      ]
     },
     "execution_count": 16,
     "metadata": {},
     "output_type": "execute_result"
    }
   ],
   "source": [
    "df[['Rooms', 'No. Of Days', 'Booking Price[SGD]', 'Total Booking Amount']].head(3)"
   ]
  },
  {
   "cell_type": "code",
   "execution_count": 17,
   "metadata": {},
   "outputs": [],
   "source": [
    "df['Discount Amount'] = df['Rooms'] * df['No. Of Days'] * df['Booking Price[SGD]'] * df['Discount']"
   ]
  },
  {
   "cell_type": "code",
   "execution_count": 18,
   "metadata": {},
   "outputs": [
    {
     "data": {
      "text/html": [
       "<div>\n",
       "<style scoped>\n",
       "    .dataframe tbody tr th:only-of-type {\n",
       "        vertical-align: middle;\n",
       "    }\n",
       "\n",
       "    .dataframe tbody tr th {\n",
       "        vertical-align: top;\n",
       "    }\n",
       "\n",
       "    .dataframe thead th {\n",
       "        text-align: right;\n",
       "    }\n",
       "</style>\n",
       "<table border=\"1\" class=\"dataframe\">\n",
       "  <thead>\n",
       "    <tr style=\"text-align: right;\">\n",
       "      <th></th>\n",
       "      <th>Rooms</th>\n",
       "      <th>No. Of Days</th>\n",
       "      <th>Booking Price[SGD]</th>\n",
       "      <th>Discount</th>\n",
       "      <th>Total Booking Amount</th>\n",
       "      <th>Discount Amount</th>\n",
       "    </tr>\n",
       "  </thead>\n",
       "  <tbody>\n",
       "    <tr>\n",
       "      <th>0</th>\n",
       "      <td>1</td>\n",
       "      <td>8</td>\n",
       "      <td>243</td>\n",
       "      <td>0.01</td>\n",
       "      <td>1944</td>\n",
       "      <td>19.44</td>\n",
       "    </tr>\n",
       "    <tr>\n",
       "      <th>1</th>\n",
       "      <td>2</td>\n",
       "      <td>1</td>\n",
       "      <td>312</td>\n",
       "      <td>0.00</td>\n",
       "      <td>624</td>\n",
       "      <td>0.00</td>\n",
       "    </tr>\n",
       "    <tr>\n",
       "      <th>2</th>\n",
       "      <td>2</td>\n",
       "      <td>7</td>\n",
       "      <td>338</td>\n",
       "      <td>0.19</td>\n",
       "      <td>4732</td>\n",
       "      <td>899.08</td>\n",
       "    </tr>\n",
       "  </tbody>\n",
       "</table>\n",
       "</div>"
      ],
      "text/plain": [
       "   Rooms  No. Of Days  Booking Price[SGD]  Discount  Total Booking Amount  \\\n",
       "0      1            8                 243      0.01                  1944   \n",
       "1      2            1                 312      0.00                   624   \n",
       "2      2            7                 338      0.19                  4732   \n",
       "\n",
       "   Discount Amount  \n",
       "0            19.44  \n",
       "1             0.00  \n",
       "2           899.08  "
      ]
     },
     "execution_count": 18,
     "metadata": {},
     "output_type": "execute_result"
    }
   ],
   "source": [
    "df[['Rooms', 'No. Of Days', 'Booking Price[SGD]', 'Discount', 'Total Booking Amount', 'Discount Amount']].head(3)"
   ]
  },
  {
   "cell_type": "code",
   "execution_count": 19,
   "metadata": {},
   "outputs": [],
   "source": [
    "df['Net Sales'] = df['Total Booking Amount'] - df['Discount Amount']"
   ]
  },
  {
   "cell_type": "code",
   "execution_count": 20,
   "metadata": {},
   "outputs": [
    {
     "data": {
      "text/html": [
       "<div>\n",
       "<style scoped>\n",
       "    .dataframe tbody tr th:only-of-type {\n",
       "        vertical-align: middle;\n",
       "    }\n",
       "\n",
       "    .dataframe tbody tr th {\n",
       "        vertical-align: top;\n",
       "    }\n",
       "\n",
       "    .dataframe thead th {\n",
       "        text-align: right;\n",
       "    }\n",
       "</style>\n",
       "<table border=\"1\" class=\"dataframe\">\n",
       "  <thead>\n",
       "    <tr style=\"text-align: right;\">\n",
       "      <th></th>\n",
       "      <th>Total Booking Amount</th>\n",
       "      <th>Discount Amount</th>\n",
       "      <th>Net Sales</th>\n",
       "    </tr>\n",
       "  </thead>\n",
       "  <tbody>\n",
       "    <tr>\n",
       "      <th>0</th>\n",
       "      <td>1944</td>\n",
       "      <td>19.44</td>\n",
       "      <td>1924.56</td>\n",
       "    </tr>\n",
       "    <tr>\n",
       "      <th>1</th>\n",
       "      <td>624</td>\n",
       "      <td>0.00</td>\n",
       "      <td>624.00</td>\n",
       "    </tr>\n",
       "    <tr>\n",
       "      <th>2</th>\n",
       "      <td>4732</td>\n",
       "      <td>899.08</td>\n",
       "      <td>3832.92</td>\n",
       "    </tr>\n",
       "  </tbody>\n",
       "</table>\n",
       "</div>"
      ],
      "text/plain": [
       "   Total Booking Amount  Discount Amount  Net Sales\n",
       "0                  1944            19.44    1924.56\n",
       "1                   624             0.00     624.00\n",
       "2                  4732           899.08    3832.92"
      ]
     },
     "execution_count": 20,
     "metadata": {},
     "output_type": "execute_result"
    }
   ],
   "source": [
    "df[['Total Booking Amount', 'Discount Amount', 'Net Sales']].head(3)"
   ]
  },
  {
   "cell_type": "code",
   "execution_count": 21,
   "metadata": {},
   "outputs": [],
   "source": [
    "df['Gross Sales'] = df['Net Sales'] * (1 + df['GST'])"
   ]
  },
  {
   "cell_type": "code",
   "execution_count": 22,
   "metadata": {},
   "outputs": [
    {
     "data": {
      "text/html": [
       "<div>\n",
       "<style scoped>\n",
       "    .dataframe tbody tr th:only-of-type {\n",
       "        vertical-align: middle;\n",
       "    }\n",
       "\n",
       "    .dataframe tbody tr th {\n",
       "        vertical-align: top;\n",
       "    }\n",
       "\n",
       "    .dataframe thead th {\n",
       "        text-align: right;\n",
       "    }\n",
       "</style>\n",
       "<table border=\"1\" class=\"dataframe\">\n",
       "  <thead>\n",
       "    <tr style=\"text-align: right;\">\n",
       "      <th></th>\n",
       "      <th>Total Booking Amount</th>\n",
       "      <th>Discount Amount</th>\n",
       "      <th>Net Sales</th>\n",
       "      <th>GST</th>\n",
       "      <th>Gross Sales</th>\n",
       "    </tr>\n",
       "  </thead>\n",
       "  <tbody>\n",
       "    <tr>\n",
       "      <th>0</th>\n",
       "      <td>1944</td>\n",
       "      <td>19.44</td>\n",
       "      <td>1924.56</td>\n",
       "      <td>0.07</td>\n",
       "      <td>2059.2792</td>\n",
       "    </tr>\n",
       "    <tr>\n",
       "      <th>1</th>\n",
       "      <td>624</td>\n",
       "      <td>0.00</td>\n",
       "      <td>624.00</td>\n",
       "      <td>0.07</td>\n",
       "      <td>667.6800</td>\n",
       "    </tr>\n",
       "    <tr>\n",
       "      <th>2</th>\n",
       "      <td>4732</td>\n",
       "      <td>899.08</td>\n",
       "      <td>3832.92</td>\n",
       "      <td>0.07</td>\n",
       "      <td>4101.2244</td>\n",
       "    </tr>\n",
       "  </tbody>\n",
       "</table>\n",
       "</div>"
      ],
      "text/plain": [
       "   Total Booking Amount  Discount Amount  Net Sales   GST  Gross Sales\n",
       "0                  1944            19.44    1924.56  0.07    2059.2792\n",
       "1                   624             0.00     624.00  0.07     667.6800\n",
       "2                  4732           899.08    3832.92  0.07    4101.2244"
      ]
     },
     "execution_count": 22,
     "metadata": {},
     "output_type": "execute_result"
    }
   ],
   "source": [
    "df[['Total Booking Amount', 'Discount Amount', 'Net Sales', 'GST', 'Gross Sales']].head(3)"
   ]
  },
  {
   "cell_type": "code",
   "execution_count": 23,
   "metadata": {},
   "outputs": [],
   "source": [
    "df['Revenue'] = df['Net Sales'] * df['Profit Margin']"
   ]
  },
  {
   "cell_type": "markdown",
   "metadata": {},
   "source": [
    "---"
   ]
  },
  {
   "cell_type": "code",
   "execution_count": 24,
   "metadata": {},
   "outputs": [
    {
     "data": {
      "text/html": [
       "<div>\n",
       "<style scoped>\n",
       "    .dataframe tbody tr th:only-of-type {\n",
       "        vertical-align: middle;\n",
       "    }\n",
       "\n",
       "    .dataframe tbody tr th {\n",
       "        vertical-align: top;\n",
       "    }\n",
       "\n",
       "    .dataframe thead th {\n",
       "        text-align: right;\n",
       "    }\n",
       "</style>\n",
       "<table border=\"1\" class=\"dataframe\">\n",
       "  <thead>\n",
       "    <tr style=\"text-align: right;\">\n",
       "      <th></th>\n",
       "      <th>Total Booking Amount</th>\n",
       "      <th>Discount Amount</th>\n",
       "      <th>Net Sales</th>\n",
       "      <th>GST</th>\n",
       "      <th>Gross Sales</th>\n",
       "      <th>Profit Margin</th>\n",
       "      <th>Revenue</th>\n",
       "    </tr>\n",
       "  </thead>\n",
       "  <tbody>\n",
       "    <tr>\n",
       "      <th>0</th>\n",
       "      <td>1944</td>\n",
       "      <td>19.44</td>\n",
       "      <td>1924.56</td>\n",
       "      <td>0.07</td>\n",
       "      <td>2059.2792</td>\n",
       "      <td>0.25</td>\n",
       "      <td>481.140</td>\n",
       "    </tr>\n",
       "    <tr>\n",
       "      <th>1</th>\n",
       "      <td>624</td>\n",
       "      <td>0.00</td>\n",
       "      <td>624.00</td>\n",
       "      <td>0.07</td>\n",
       "      <td>667.6800</td>\n",
       "      <td>0.24</td>\n",
       "      <td>149.760</td>\n",
       "    </tr>\n",
       "    <tr>\n",
       "      <th>2</th>\n",
       "      <td>4732</td>\n",
       "      <td>899.08</td>\n",
       "      <td>3832.92</td>\n",
       "      <td>0.07</td>\n",
       "      <td>4101.2244</td>\n",
       "      <td>0.20</td>\n",
       "      <td>766.584</td>\n",
       "    </tr>\n",
       "  </tbody>\n",
       "</table>\n",
       "</div>"
      ],
      "text/plain": [
       "   Total Booking Amount  Discount Amount  Net Sales   GST  Gross Sales  \\\n",
       "0                  1944            19.44    1924.56  0.07    2059.2792   \n",
       "1                   624             0.00     624.00  0.07     667.6800   \n",
       "2                  4732           899.08    3832.92  0.07    4101.2244   \n",
       "\n",
       "   Profit Margin  Revenue  \n",
       "0           0.25  481.140  \n",
       "1           0.24  149.760  \n",
       "2           0.20  766.584  "
      ]
     },
     "execution_count": 24,
     "metadata": {},
     "output_type": "execute_result"
    }
   ],
   "source": [
    "# This should run without error, and display your newly calculated columns.\n",
    "df[['Total Booking Amount', 'Discount Amount', 'Net Sales', 'GST', 'Gross Sales', 'Profit Margin', 'Revenue']].head(3)"
   ]
  },
  {
   "cell_type": "markdown",
   "metadata": {},
   "source": [
    "---\n",
    "> ### 🚩 Exercise 5\n",
    "> \n",
    "> Create a Seaborn barplot showing Total Booking Amount (x-axis) by Origin Country (y-axis).\n",
    "> \n",
    "> Tips:\n",
    "> - Don't forget to use `data=df`\n",
    "> - You will also want `estimator=sum` otherwise it will calculate the average \"Total Booking Amount\" by country."
   ]
  },
  {
   "cell_type": "code",
   "execution_count": 25,
   "metadata": {},
   "outputs": [
    {
     "data": {
      "image/png": "[encoded data removed]",
      "text/plain": [
       "<Figure size 432x288 with 1 Axes>"
      ]
     },
     "metadata": {
      "needs_background": "light"
     },
     "output_type": "display_data"
    }
   ],
   "source": [
    "# ✅ SOLUTION\n",
    "\n",
    "sns.barplot(x='Total Booking Amount', y='Origin Country', estimator=sum, data=df);"
   ]
  },
  {
   "cell_type": "markdown",
   "metadata": {},
   "source": [
    "You should see that the company receives the most bookings from Thailand, followed by Malaysia, Indonesia and Singapore."
   ]
  },
  {
   "cell_type": "markdown",
   "metadata": {},
   "source": [
    "---\n",
    "> ### 🚩 Exercise 6\n",
    "> \n",
    "> Create a dataframe called `revenue_state` by doing the following:\n",
    "> 1. Groupby both `Origin Country` and `State`\n",
    "> 2. Calculate the sum of the Revenue column\n",
    "> 3. Reset the index"
   ]
  },
  {
   "cell_type": "code",
   "execution_count": 26,
   "metadata": {},
   "outputs": [
    {
     "data": {
      "text/html": [
       "<div>\n",
       "<style scoped>\n",
       "    .dataframe tbody tr th:only-of-type {\n",
       "        vertical-align: middle;\n",
       "    }\n",
       "\n",
       "    .dataframe tbody tr th {\n",
       "        vertical-align: top;\n",
       "    }\n",
       "\n",
       "    .dataframe thead th {\n",
       "        text-align: right;\n",
       "    }\n",
       "</style>\n",
       "<table border=\"1\" class=\"dataframe\">\n",
       "  <thead>\n",
       "    <tr style=\"text-align: right;\">\n",
       "      <th></th>\n",
       "      <th>Origin Country</th>\n",
       "      <th>State</th>\n",
       "      <th>Revenue</th>\n",
       "    </tr>\n",
       "  </thead>\n",
       "  <tbody>\n",
       "    <tr>\n",
       "      <th>0</th>\n",
       "      <td>Cambodia</td>\n",
       "      <td>Andong Teuk</td>\n",
       "      <td>33696.9409</td>\n",
       "    </tr>\n",
       "    <tr>\n",
       "      <th>1</th>\n",
       "      <td>Cambodia</td>\n",
       "      <td>Angkor Borei</td>\n",
       "      <td>34088.3539</td>\n",
       "    </tr>\n",
       "    <tr>\n",
       "      <th>2</th>\n",
       "      <td>Cambodia</td>\n",
       "      <td>Angkor Chum</td>\n",
       "      <td>35023.4886</td>\n",
       "    </tr>\n",
       "    <tr>\n",
       "      <th>3</th>\n",
       "      <td>Cambodia</td>\n",
       "      <td>Bak Khlang</td>\n",
       "      <td>41029.9293</td>\n",
       "    </tr>\n",
       "    <tr>\n",
       "      <th>4</th>\n",
       "      <td>Cambodia</td>\n",
       "      <td>Bakan</td>\n",
       "      <td>39717.5700</td>\n",
       "    </tr>\n",
       "    <tr>\n",
       "      <th>...</th>\n",
       "      <td>...</td>\n",
       "      <td>...</td>\n",
       "      <td>...</td>\n",
       "    </tr>\n",
       "    <tr>\n",
       "      <th>214</th>\n",
       "      <td>Vietnam</td>\n",
       "      <td>Tam Ky</td>\n",
       "      <td>52506.1031</td>\n",
       "    </tr>\n",
       "    <tr>\n",
       "      <th>215</th>\n",
       "      <td>Vietnam</td>\n",
       "      <td>Thach Thanh</td>\n",
       "      <td>58444.7716</td>\n",
       "    </tr>\n",
       "    <tr>\n",
       "      <th>216</th>\n",
       "      <td>Vietnam</td>\n",
       "      <td>Thai Nguyen</td>\n",
       "      <td>54403.8933</td>\n",
       "    </tr>\n",
       "    <tr>\n",
       "      <th>217</th>\n",
       "      <td>Vietnam</td>\n",
       "      <td>Tuy Phong</td>\n",
       "      <td>52797.3589</td>\n",
       "    </tr>\n",
       "    <tr>\n",
       "      <th>218</th>\n",
       "      <td>Vietnam</td>\n",
       "      <td>Vinh</td>\n",
       "      <td>58387.2971</td>\n",
       "    </tr>\n",
       "  </tbody>\n",
       "</table>\n",
       "<p>219 rows × 3 columns</p>\n",
       "</div>"
      ],
      "text/plain": [
       "    Origin Country         State     Revenue\n",
       "0         Cambodia   Andong Teuk  33696.9409\n",
       "1         Cambodia  Angkor Borei  34088.3539\n",
       "2         Cambodia   Angkor Chum  35023.4886\n",
       "3         Cambodia    Bak Khlang  41029.9293\n",
       "4         Cambodia         Bakan  39717.5700\n",
       "..             ...           ...         ...\n",
       "214        Vietnam        Tam Ky  52506.1031\n",
       "215        Vietnam   Thach Thanh  58444.7716\n",
       "216        Vietnam   Thai Nguyen  54403.8933\n",
       "217        Vietnam     Tuy Phong  52797.3589\n",
       "218        Vietnam          Vinh  58387.2971\n",
       "\n",
       "[219 rows x 3 columns]"
      ]
     },
     "execution_count": 26,
     "metadata": {},
     "output_type": "execute_result"
    }
   ],
   "source": [
    "# ✅ SOLUTION\n",
    "\n",
    "revenue_state = (\n",
    "    df\n",
    "    .groupby(['Origin Country', 'State'])\n",
    "    .Revenue\n",
    "    .sum()\n",
    "    .reset_index()\n",
    ")\n",
    "revenue_state"
   ]
  },
  {
   "cell_type": "markdown",
   "metadata": {},
   "source": [
    "---\n",
    "> ### 🚩 Exercise 7\n",
    "> \n",
    "> Create a dataframe called `top_states` by doing the following:\n",
    "> 1. Use your `revenue_state` dataframe, and sort it by `Revenue` descending (`ascending=False`)\n",
    "> 2. Group by just `Origin Country`\n",
    "> 3. Then call just `.head(3)`, this will select the top 3 states for each country (neat trick!)"
   ]
  },
  {
   "cell_type": "code",
   "execution_count": 27,
   "metadata": {},
   "outputs": [
    {
     "data": {
      "text/html": [
       "<div>\n",
       "<style scoped>\n",
       "    .dataframe tbody tr th:only-of-type {\n",
       "        vertical-align: middle;\n",
       "    }\n",
       "\n",
       "    .dataframe tbody tr th {\n",
       "        vertical-align: top;\n",
       "    }\n",
       "\n",
       "    .dataframe thead th {\n",
       "        text-align: right;\n",
       "    }\n",
       "</style>\n",
       "<table border=\"1\" class=\"dataframe\">\n",
       "  <thead>\n",
       "    <tr style=\"text-align: right;\">\n",
       "      <th></th>\n",
       "      <th>Origin Country</th>\n",
       "      <th>State</th>\n",
       "      <th>Revenue</th>\n",
       "    </tr>\n",
       "  </thead>\n",
       "  <tbody>\n",
       "    <tr>\n",
       "      <th>168</th>\n",
       "      <td>Singapore</td>\n",
       "      <td>Central</td>\n",
       "      <td>1.212189e+06</td>\n",
       "    </tr>\n",
       "    <tr>\n",
       "      <th>172</th>\n",
       "      <td>Singapore</td>\n",
       "      <td>West</td>\n",
       "      <td>6.583602e+05</td>\n",
       "    </tr>\n",
       "    <tr>\n",
       "      <th>126</th>\n",
       "      <td>Malaysia</td>\n",
       "      <td>Johor</td>\n",
       "      <td>4.992565e+05</td>\n",
       "    </tr>\n",
       "    <tr>\n",
       "      <th>129</th>\n",
       "      <td>Malaysia</td>\n",
       "      <td>Penang</td>\n",
       "      <td>4.841925e+05</td>\n",
       "    </tr>\n",
       "    <tr>\n",
       "      <th>132</th>\n",
       "      <td>Malaysia</td>\n",
       "      <td>Sarawak</td>\n",
       "      <td>4.710899e+05</td>\n",
       "    </tr>\n",
       "    <tr>\n",
       "      <th>170</th>\n",
       "      <td>Singapore</td>\n",
       "      <td>North</td>\n",
       "      <td>4.264580e+05</td>\n",
       "    </tr>\n",
       "    <tr>\n",
       "      <th>176</th>\n",
       "      <td>Thailand</td>\n",
       "      <td>Chonburi</td>\n",
       "      <td>3.476852e+05</td>\n",
       "    </tr>\n",
       "    <tr>\n",
       "      <th>181</th>\n",
       "      <td>Thailand</td>\n",
       "      <td>Nonthaburi</td>\n",
       "      <td>2.334670e+05</td>\n",
       "    </tr>\n",
       "    <tr>\n",
       "      <th>189</th>\n",
       "      <td>Thailand</td>\n",
       "      <td>Songkhla</td>\n",
       "      <td>2.302631e+05</td>\n",
       "    </tr>\n",
       "    <tr>\n",
       "      <th>145</th>\n",
       "      <td>Philippines</td>\n",
       "      <td>Cebu</td>\n",
       "      <td>1.764086e+05</td>\n",
       "    </tr>\n",
       "    <tr>\n",
       "      <th>144</th>\n",
       "      <td>Philippines</td>\n",
       "      <td>Cavite</td>\n",
       "      <td>1.358817e+05</td>\n",
       "    </tr>\n",
       "    <tr>\n",
       "      <th>151</th>\n",
       "      <td>Philippines</td>\n",
       "      <td>Laguna</td>\n",
       "      <td>1.279543e+05</td>\n",
       "    </tr>\n",
       "    <tr>\n",
       "      <th>209</th>\n",
       "      <td>Vietnam</td>\n",
       "      <td>My Tho</td>\n",
       "      <td>1.223091e+05</td>\n",
       "    </tr>\n",
       "    <tr>\n",
       "      <th>211</th>\n",
       "      <td>Vietnam</td>\n",
       "      <td>Phan Thiet</td>\n",
       "      <td>7.090568e+04</td>\n",
       "    </tr>\n",
       "    <tr>\n",
       "      <th>210</th>\n",
       "      <td>Vietnam</td>\n",
       "      <td>Ninh An</td>\n",
       "      <td>6.726852e+04</td>\n",
       "    </tr>\n",
       "    <tr>\n",
       "      <th>125</th>\n",
       "      <td>Indonesia</td>\n",
       "      <td>Yogyakarta</td>\n",
       "      <td>5.088711e+04</td>\n",
       "    </tr>\n",
       "    <tr>\n",
       "      <th>123</th>\n",
       "      <td>Indonesia</td>\n",
       "      <td>Tuban</td>\n",
       "      <td>5.075206e+04</td>\n",
       "    </tr>\n",
       "    <tr>\n",
       "      <th>5</th>\n",
       "      <td>Cambodia</td>\n",
       "      <td>Bar Yakha</td>\n",
       "      <td>4.935747e+04</td>\n",
       "    </tr>\n",
       "    <tr>\n",
       "      <th>122</th>\n",
       "      <td>Indonesia</td>\n",
       "      <td>Torere</td>\n",
       "      <td>4.733987e+04</td>\n",
       "    </tr>\n",
       "    <tr>\n",
       "      <th>16</th>\n",
       "      <td>Cambodia</td>\n",
       "      <td>Kor</td>\n",
       "      <td>4.549388e+04</td>\n",
       "    </tr>\n",
       "    <tr>\n",
       "      <th>38</th>\n",
       "      <td>Cambodia</td>\n",
       "      <td>Thma Bang</td>\n",
       "      <td>4.208410e+04</td>\n",
       "    </tr>\n",
       "  </tbody>\n",
       "</table>\n",
       "</div>"
      ],
      "text/plain": [
       "    Origin Country       State       Revenue\n",
       "168      Singapore     Central  1.212189e+06\n",
       "172      Singapore        West  6.583602e+05\n",
       "126       Malaysia       Johor  4.992565e+05\n",
       "129       Malaysia      Penang  4.841925e+05\n",
       "132       Malaysia     Sarawak  4.710899e+05\n",
       "170      Singapore       North  4.264580e+05\n",
       "176       Thailand    Chonburi  3.476852e+05\n",
       "181       Thailand  Nonthaburi  2.334670e+05\n",
       "189       Thailand    Songkhla  2.302631e+05\n",
       "145    Philippines        Cebu  1.764086e+05\n",
       "144    Philippines      Cavite  1.358817e+05\n",
       "151    Philippines      Laguna  1.279543e+05\n",
       "209        Vietnam      My Tho  1.223091e+05\n",
       "211        Vietnam  Phan Thiet  7.090568e+04\n",
       "210        Vietnam     Ninh An  6.726852e+04\n",
       "125      Indonesia  Yogyakarta  5.088711e+04\n",
       "123      Indonesia       Tuban  5.075206e+04\n",
       "5         Cambodia   Bar Yakha  4.935747e+04\n",
       "122      Indonesia      Torere  4.733987e+04\n",
       "16        Cambodia         Kor  4.549388e+04\n",
       "38        Cambodia   Thma Bang  4.208410e+04"
      ]
     },
     "execution_count": 27,
     "metadata": {},
     "output_type": "execute_result"
    }
   ],
   "source": [
    "# ✅ SOLUTION\n",
    "\n",
    "top_states = (\n",
    "    revenue_state\n",
    "    .sort_values('Revenue', ascending=False)\n",
    "    .groupby('Origin Country')\n",
    "    .head(3)\n",
    ")\n",
    "top_states"
   ]
  },
  {
   "cell_type": "markdown",
   "metadata": {},
   "source": [
    "---"
   ]
  },
  {
   "cell_type": "code",
   "execution_count": 28,
   "metadata": {},
   "outputs": [
    {
     "data": {
      "text/html": [
       "<div>\n",
       "<style scoped>\n",
       "    .dataframe tbody tr th:only-of-type {\n",
       "        vertical-align: middle;\n",
       "    }\n",
       "\n",
       "    .dataframe tbody tr th {\n",
       "        vertical-align: top;\n",
       "    }\n",
       "\n",
       "    .dataframe thead th {\n",
       "        text-align: right;\n",
       "    }\n",
       "</style>\n",
       "<table border=\"1\" class=\"dataframe\">\n",
       "  <thead>\n",
       "    <tr style=\"text-align: right;\">\n",
       "      <th></th>\n",
       "      <th>Origin Country</th>\n",
       "      <th>State</th>\n",
       "      <th>Revenue</th>\n",
       "    </tr>\n",
       "  </thead>\n",
       "  <tbody>\n",
       "    <tr>\n",
       "      <th>5</th>\n",
       "      <td>Cambodia</td>\n",
       "      <td>Bar Yakha</td>\n",
       "      <td>49357.4712</td>\n",
       "    </tr>\n",
       "    <tr>\n",
       "      <th>16</th>\n",
       "      <td>Cambodia</td>\n",
       "      <td>Kor</td>\n",
       "      <td>45493.8839</td>\n",
       "    </tr>\n",
       "    <tr>\n",
       "      <th>38</th>\n",
       "      <td>Cambodia</td>\n",
       "      <td>Thma Bang</td>\n",
       "      <td>42084.0994</td>\n",
       "    </tr>\n",
       "    <tr>\n",
       "      <th>125</th>\n",
       "      <td>Indonesia</td>\n",
       "      <td>Yogyakarta</td>\n",
       "      <td>50887.1065</td>\n",
       "    </tr>\n",
       "    <tr>\n",
       "      <th>123</th>\n",
       "      <td>Indonesia</td>\n",
       "      <td>Tuban</td>\n",
       "      <td>50752.0634</td>\n",
       "    </tr>\n",
       "    <tr>\n",
       "      <th>122</th>\n",
       "      <td>Indonesia</td>\n",
       "      <td>Torere</td>\n",
       "      <td>47339.8736</td>\n",
       "    </tr>\n",
       "    <tr>\n",
       "      <th>126</th>\n",
       "      <td>Malaysia</td>\n",
       "      <td>Johor</td>\n",
       "      <td>499256.4858</td>\n",
       "    </tr>\n",
       "    <tr>\n",
       "      <th>129</th>\n",
       "      <td>Malaysia</td>\n",
       "      <td>Penang</td>\n",
       "      <td>484192.5044</td>\n",
       "    </tr>\n",
       "    <tr>\n",
       "      <th>132</th>\n",
       "      <td>Malaysia</td>\n",
       "      <td>Sarawak</td>\n",
       "      <td>471089.8885</td>\n",
       "    </tr>\n",
       "    <tr>\n",
       "      <th>145</th>\n",
       "      <td>Philippines</td>\n",
       "      <td>Cebu</td>\n",
       "      <td>176408.5628</td>\n",
       "    </tr>\n",
       "  </tbody>\n",
       "</table>\n",
       "</div>"
      ],
      "text/plain": [
       "    Origin Country       State      Revenue\n",
       "5         Cambodia   Bar Yakha   49357.4712\n",
       "16        Cambodia         Kor   45493.8839\n",
       "38        Cambodia   Thma Bang   42084.0994\n",
       "125      Indonesia  Yogyakarta   50887.1065\n",
       "123      Indonesia       Tuban   50752.0634\n",
       "122      Indonesia      Torere   47339.8736\n",
       "126       Malaysia       Johor  499256.4858\n",
       "129       Malaysia      Penang  484192.5044\n",
       "132       Malaysia     Sarawak  471089.8885\n",
       "145    Philippines        Cebu  176408.5628"
      ]
     },
     "execution_count": 28,
     "metadata": {},
     "output_type": "execute_result"
    }
   ],
   "source": [
    "# Let's re-sort top_states by Country then Revenue ready for the next exercise.\n",
    "top_states = top_states.sort_values(\n",
    "    by=['Origin Country', 'Revenue'],\n",
    "    ascending=[True, False]\n",
    ")\n",
    "\n",
    "top_states.head(10)"
   ]
  },
  {
   "cell_type": "markdown",
   "metadata": {},
   "source": [
    "---\n",
    "> ### 🚩 Exercise 8\n",
    "> \n",
    "> Create a horizontal barplot using Seaborn that shows **total revenue by country and state**:\n",
    "> 1. Put `Revenue` on the x-axis and `State` on the y-axis, with `data=top_states`\n",
    "> 2. Add `hue='Origin Country'`\n",
    "> 3. Don't forget `orient='h'` for a horizontal bar plot.\n",
    "> 4. Add `dodge=False` to make it look neater (Can you figure out what dodge is doing here? What do the docs say?)\n",
    "> 5. Finally, add `plt.figure(figsize=(15,10))` on it's own line for a larger plot size."
   ]
  },
  {
   "cell_type": "code",
   "execution_count": 29,
   "metadata": {},
   "outputs": [
    {
     "data": {
      "image/png": "[encoded data removed]",
      "text/plain": [
       "<Figure size 1080x720 with 1 Axes>"
      ]
     },
     "metadata": {
      "needs_background": "light"
     },
     "output_type": "display_data"
    }
   ],
   "source": [
    "# ✅ SOLUTION\n",
    "\n",
    "plt.figure(figsize=(15,10))\n",
    "sns.barplot(\n",
    "    x='Revenue',\n",
    "    y='State',\n",
    "    hue='Origin Country',\n",
    "    dodge=False,\n",
    "    orient='h',\n",
    "    data=top_states\n",
    ");"
   ]
  },
  {
   "cell_type": "markdown",
   "metadata": {},
   "source": [
    "---\n",
    "<div class=\"alert alert-block alert-success\">\n",
    "<b>🎉 Congratulations</b><br>\n",
    "You have reached the end of these exercises.\n",
    "</div>"
   ]
  },
  {
   "cell_type": "markdown",
   "metadata": {},
   "source": [
    "---"
   ]
  }
 ],
 "metadata": {
  "kernelspec": {
   "display_name": "Python 3",
   "language": "python",
   "name": "python3"
  },
  "language_info": {
   "codemirror_mode": {
    "name": "ipython",
    "version": 3
   },
   "file_extension": ".py",
   "mimetype": "text/x-python",
   "name": "python",
   "nbconvert_exporter": "python",
   "pygments_lexer": "ipython3",
   "version": "3.8.8"
  },
  "toc": {
   "base_numbering": 1,
   "nav_menu": {},
   "number_sections": true,
   "sideBar": true,
   "skip_h1_title": false,
   "title_cell": "Table of Contents",
   "title_sidebar": "Contents",
   "toc_cell": false,
   "toc_position": {},
   "toc_section_display": true,
   "toc_window_display": false
  }
 },
 "nbformat": 4,
 "nbformat_minor": 4
}
