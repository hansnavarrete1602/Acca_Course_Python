{
 "cells": [
  {
   "cell_type": "markdown",
   "metadata": {},
   "source": [
    "<img src=\"https://courses.edx.org/asset-v1:ACCA+ML001+2T2021+type@asset+block@acca-logo.jpg\" alt=\"ACCA logo\" style=\"width: 400px;\"/>\n",
    "\n",
    "# Python for data analysis\n",
    "## Part 2 - First steps with pandas\n",
    "\n",
    "* **Course:** __Machine learning with Python for finance professionals__ by ACCA\n",
    "* **Instructor:** [Coefficient](https://coefficient.ai) / [@CoefficientData](https://twitter.com/CoefficientData)\n",
    "\n",
    "---"
   ]
  },
  {
   "cell_type": "markdown",
   "metadata": {},
   "source": [
    "<div class=\"alert alert-block alert-info\" style=\"background-color: #BA001E; border: 0px; -moz-border-radius: 10px; -webkit-border-radius: 10px;\">\n",
    "<h2 style=\"color: white\">\n",
    "pandas 101\n",
    "</h2><br>\n",
    "</div>"
   ]
  },
  {
   "cell_type": "markdown",
   "metadata": {},
   "source": [
    "<img src=\"https://courses.edx.org/asset-v1:ACCA+ML001+2T2021+type@asset+block@pandas.png\" alt=\"pandas\" style=\"width: 300px;\"/>\n",
    "\n",
    "> **[pandas](https://pandas.pydata.org) is a Python library for data analysis & manipulation**. The name is a contraction of \"[panel data](https://en.wikipedia.org/wiki/Panel_data) analysis\" and refers to the kind of tabular data common in financial applications. It was released in 2008 by Wes McKinney and has been called \"_[the most important tool in data science](https://qz.com/1126615/the-story-of-the-most-important-tool-in-data-science/)_\".\n",
    ">\n",
    "> pandas is built on top of NumPy and enables the storage and manipulation of Excel-like tables in Python. These special tables are called DataFrames, the primary object in `pandas`."
   ]
  },
  {
   "cell_type": "code",
   "execution_count": null,
   "metadata": {},
   "outputs": [],
   "source": [
    "# We will import pandas using the alias \"pd\" (it's shorter, i.e. quicker to type)\n",
    "import pandas as pd"
   ]
  },
  {
   "cell_type": "code",
   "execution_count": null,
   "metadata": {},
   "outputs": [],
   "source": [
    "pd.read_excel?"
   ]
  },
  {
   "cell_type": "code",
   "execution_count": null,
   "metadata": {},
   "outputs": [],
   "source": [
    "# Let's read in the Dream Destination hotel data.\n",
    "orders = pd.read_excel(\n",
    "    \"Hotel Industry - Orders Database - 2019.xlsx\", sheet_name=\"Order Database\"\n",
    ")"
   ]
  },
  {
   "cell_type": "code",
   "execution_count": null,
   "metadata": {},
   "outputs": [],
   "source": [
    "# What does it look like?\n",
    "orders"
   ]
  },
  {
   "cell_type": "code",
   "execution_count": null,
   "metadata": {},
   "outputs": [],
   "source": [
    "# This DataFrame has 9501 rows and 19 columns\n",
    "orders.shape"
   ]
  },
  {
   "cell_type": "code",
   "execution_count": null,
   "metadata": {},
   "outputs": [],
   "source": [
    "# We can use the Python \"length\" function, len(), to count the length of things\n",
    "len({\"a\": 1, 'b': 2, 'c': 3})"
   ]
  },
  {
   "cell_type": "code",
   "execution_count": null,
   "metadata": {},
   "outputs": [],
   "source": [
    "# The \"length\" of a DataFrame is the number of rows it has\n",
    "len(orders)"
   ]
  },
  {
   "cell_type": "markdown",
   "metadata": {},
   "source": [
    "---\n",
    "\n",
    "In this next section we will aim to answer the following questions:\n",
    "1. How do we select a single column?\n",
    "2. How do we select several columns?\n",
    "3. How do we select the top 5 rows? The top 10 rows?\n",
    "4. How do we select the bottom 5 rows?\n",
    "5. How do we select only bookings made by people under 20 years old? How about only bookings made by women? How about bookings made by men aged 40-49?"
   ]
  },
  {
   "cell_type": "markdown",
   "metadata": {},
   "source": [
    "### 1. How do we select a single column?"
   ]
  },
  {
   "cell_type": "code",
   "execution_count": null,
   "metadata": {},
   "outputs": [],
   "source": [
    "# Remember that square brackets are used for \"selecting things\" in Python.\n",
    "numbers = [1, 2, 3]\n",
    "numbers[0]"
   ]
  },
  {
   "cell_type": "code",
   "execution_count": null,
   "metadata": {},
   "outputs": [],
   "source": [
    "# Select the value associated with a dictionary key...\n",
    "capitals = {\"Germany\": \"Berlin\", \"France\": \"Paris\", \"Slovenia\": \"Ljubljana\", \"Tanzania\": \"Dodoma\"}\n",
    "capitals[\"Slovenia\"]"
   ]
  },
  {
   "cell_type": "code",
   "execution_count": null,
   "metadata": {},
   "outputs": [],
   "source": [
    "orders"
   ]
  },
  {
   "cell_type": "code",
   "execution_count": null,
   "metadata": {},
   "outputs": [],
   "source": [
    "# The same is true for DataFrames. Here we get the single column with the name \"Location\".\n",
    "orders['Location']"
   ]
  },
  {
   "cell_type": "code",
   "execution_count": null,
   "metadata": {},
   "outputs": [],
   "source": [
    "# We can also use the \"dot\" notation to access the same column.\n",
    "orders.Age"
   ]
  },
  {
   "cell_type": "code",
   "execution_count": null,
   "metadata": {},
   "outputs": [],
   "source": [
    "# We can turn the above into a normal Python list\n",
    "orders.Location.tolist()"
   ]
  },
  {
   "cell_type": "code",
   "execution_count": null,
   "metadata": {},
   "outputs": [],
   "source": [
    "# This doesn't work with columns containing spaces, we must use the square brackets here.\n",
    "orders['Destination Country']"
   ]
  },
  {
   "cell_type": "code",
   "execution_count": null,
   "metadata": {},
   "outputs": [],
   "source": [
    "# We call this a \"pandas Series\"\n",
    "type(orders['Location'])"
   ]
  },
  {
   "cell_type": "markdown",
   "metadata": {},
   "source": [
    "A [Series](https://pandas.pydata.org/pandas-docs/stable/user_guide/dsintro.html#series) is a single column from a DataFrame. A DataFrame is made up of many Series (i.e. columns), each with its own column name."
   ]
  },
  {
   "cell_type": "markdown",
   "metadata": {},
   "source": [
    "### 2. How do we select several columns?"
   ]
  },
  {
   "cell_type": "code",
   "execution_count": 1,
   "metadata": {
    "ExecuteTime": {
     "end_time": "2023-09-04T20:26:51.097915700Z",
     "start_time": "2023-09-04T20:26:48.912374100Z"
    }
   },
   "outputs": [
    {
     "ename": "NameError",
     "evalue": "name 'orders' is not defined",
     "output_type": "error",
     "traceback": [
      "\u001B[1;31m---------------------------------------------------------------------------\u001B[0m",
      "\u001B[1;31mNameError\u001B[0m                                 Traceback (most recent call last)",
      "Cell \u001B[1;32mIn[1], line 3\u001B[0m\n\u001B[0;32m      1\u001B[0m \u001B[38;5;66;03m# We can select multiple columns by passing in a list of column names\u001B[39;00m\n\u001B[0;32m      2\u001B[0m \u001B[38;5;66;03m# into the first set of square brackets.\u001B[39;00m\n\u001B[1;32m----> 3\u001B[0m \u001B[43morders\u001B[49m[[\u001B[38;5;124m'\u001B[39m\u001B[38;5;124mLocation\u001B[39m\u001B[38;5;124m'\u001B[39m, \u001B[38;5;124m'\u001B[39m\u001B[38;5;124mDestination Country\u001B[39m\u001B[38;5;124m'\u001B[39m]]\n",
      "\u001B[1;31mNameError\u001B[0m: name 'orders' is not defined"
     ]
    }
   ],
   "source": [
    "# We can select multiple columns by passing in a list of column names\n",
    "# into the first set of square brackets.\n",
    "orders[['Location', 'Destination Country']]"
   ]
  },
  {
   "cell_type": "code",
   "execution_count": null,
   "metadata": {},
   "outputs": [],
   "source": [
    "# Note there's nothing special about double brackets [[]] in pandas!\n",
    "\n",
    "# It's just a Python list...\n",
    "columns = ['Location', 'Destination Country']\n",
    "\n",
    "# ...being placed inside the normal pandas \"selector\" brackets.\n",
    "orders[columns]"
   ]
  },
  {
   "cell_type": "code",
   "execution_count": null,
   "metadata": {
    "scrolled": false
   },
   "outputs": [],
   "source": [
    "orders[['Location']]"
   ]
  },
  {
   "cell_type": "markdown",
   "metadata": {},
   "source": [
    "### 3. How do we select the top 5 rows? The top 10 rows?"
   ]
  },
  {
   "cell_type": "code",
   "execution_count": null,
   "metadata": {},
   "outputs": [],
   "source": [
    "# We can use the pandas .head() method for this\n",
    "orders.head()"
   ]
  },
  {
   "cell_type": "code",
   "execution_count": null,
   "metadata": {},
   "outputs": [],
   "source": [
    "# Let's take a look at the inline help - you can see the default is 5\n",
    "orders.head?"
   ]
  },
  {
   "cell_type": "code",
   "execution_count": null,
   "metadata": {},
   "outputs": [],
   "source": [
    "# Let's try get 10 rows\n",
    "orders.head(n=10)"
   ]
  },
  {
   "cell_type": "markdown",
   "metadata": {},
   "source": [
    "### 4. How do we select the bottom 5 rows?"
   ]
  },
  {
   "cell_type": "code",
   "execution_count": null,
   "metadata": {},
   "outputs": [],
   "source": [
    "# The equivalent command for the bottom rows is .tail()\n",
    "orders.tail?"
   ]
  },
  {
   "cell_type": "markdown",
   "metadata": {},
   "source": [
    "> ### 🚩 Exercise\n",
    "> Use the `.tail()` method to get the bottom 2 rows only."
   ]
  },
  {
   "cell_type": "code",
   "execution_count": null,
   "metadata": {},
   "outputs": [],
   "source": [
    "# ✏️ ENTER YOUR SOLUTION HERE\n",
    "\n",
    "\n"
   ]
  },
  {
   "cell_type": "markdown",
   "metadata": {},
   "source": [
    "> ### 🚩 Exercise\n",
    "> Select the `Gender`, `Age` and `Destination Country` columns only. Add on `.head()` to the end to get the top 5 rows for just these two columns."
   ]
  },
  {
   "cell_type": "code",
   "execution_count": null,
   "metadata": {},
   "outputs": [],
   "source": [
    "# ✏️ ENTER YOUR SOLUTION HERE\n",
    "\n",
    "\n"
   ]
  },
  {
   "cell_type": "markdown",
   "metadata": {},
   "source": [
    "### 5. How do we select only bookings made by women? How about only bookings by people under 20 years old? How about bookings made by men aged 40-49?\n",
    "\n",
    "Here we need to know how to query our data based on a condition. There are two ways of apply this \"conditional filter\" in pandas:\n",
    "1. Using square brackets (\"masking\").\n",
    "2. Using the `.query()` method."
   ]
  },
  {
   "cell_type": "markdown",
   "metadata": {},
   "source": [
    "#### Filter to only bookings made by women: option 1 (using a mask)"
   ]
  },
  {
   "cell_type": "code",
   "execution_count": null,
   "metadata": {},
   "outputs": [],
   "source": [
    "# Let's create a \"mask\" filter. This contains True where the condition is matched.\n",
    "\n",
    "mask = (orders.Gender == \"Female\")  # the round brackets are optional but may aid readability\n",
    "mask"
   ]
  },
  {
   "cell_type": "code",
   "execution_count": null,
   "metadata": {},
   "outputs": [],
   "source": [
    "# When you pass the mask into the pandas DataFrame selector brackets,\n",
    "# it returns only the rows containing True, i.e. the rows where Gender is \"Female\"\n",
    "orders[mask]"
   ]
  },
  {
   "cell_type": "code",
   "execution_count": null,
   "metadata": {},
   "outputs": [],
   "source": [
    "# This is usually done all in one go\n",
    "orders[orders.Gender == \"Female\"]"
   ]
  },
  {
   "cell_type": "markdown",
   "metadata": {},
   "source": [
    "#### Filter to only bookings made by women: option 2 (using the `.query()` method)"
   ]
  },
  {
   "cell_type": "code",
   "execution_count": null,
   "metadata": {},
   "outputs": [],
   "source": [
    "# .query() takes a string; pandas will then try to interpret the string\n",
    "orders.query(\"Age <= 20\")"
   ]
  },
  {
   "cell_type": "code",
   "execution_count": null,
   "metadata": {
    "scrolled": true
   },
   "outputs": [],
   "source": [
    "# Notice here we need double equals (for equality) and single quotes\n",
    "orders.query(\"Gender == 'Female'\")"
   ]
  },
  {
   "cell_type": "markdown",
   "metadata": {},
   "source": [
    "#### Bookings made by men aged 40-49: option 1 (using a mask)"
   ]
  },
  {
   "cell_type": "code",
   "execution_count": null,
   "metadata": {
    "scrolled": true
   },
   "outputs": [],
   "source": [
    "# Round brackets and the & symbol are both essential here\n",
    "orders[(orders.Gender == \"Male\") & (orders.Age >= 40) & (orders.Age <= 49)]"
   ]
  },
  {
   "cell_type": "markdown",
   "metadata": {},
   "source": [
    "#### Bookings made by men aged 40-49: option 2 (using the `.query()` method)"
   ]
  },
  {
   "cell_type": "code",
   "execution_count": null,
   "metadata": {
    "scrolled": true
   },
   "outputs": [],
   "source": [
    "# We can use the \"and\" keyword here\n",
    "orders.query(\"Gender == 'Male' and Age >= 40 and Age <= 49\")"
   ]
  },
  {
   "cell_type": "markdown",
   "metadata": {},
   "source": [
    "> ### 🚩 Exercise\n",
    "> Find all bookings made by women aged 30 whose destination country was Italy.\n",
    "> \n",
    "> _**Tip**: [you can use backticks](https://stackoverflow.com/a/56157729/3279076) inside `.query()` to reference columns containing a space._"
   ]
  },
  {
   "cell_type": "code",
   "execution_count": null,
   "metadata": {},
   "outputs": [],
   "source": [
    "# ✏️ ENTER YOUR SOLUTION HERE\n",
    "\n",
    "\n"
   ]
  },
  {
   "cell_type": "markdown",
   "metadata": {},
   "source": [
    "> ### 🚩 Exercise\n",
    "> **How many** bookings by people aged 50 had a destination country of either Germany OR France?\n",
    "> \n",
    "> _**Tips**:_\n",
    ">   - _You may want to use brackets to help keep the logic clear._\n",
    ">   - _The keyword in a `.query()` for \"A or B\" is `or`._\n",
    ">   - _The \"or\" equivalent of `&` is `|` a.k.a. the \"pipe operator\"._"
   ]
  },
  {
   "cell_type": "code",
   "execution_count": null,
   "metadata": {},
   "outputs": [],
   "source": [
    "# ✏️ ENTER YOUR SOLUTION HERE\n",
    "\n",
    "\n"
   ]
  },
  {
   "cell_type": "markdown",
   "metadata": {},
   "source": [
    "<div class=\"alert alert-block alert-info\" style=\"background-color: #BA001E; border: 0px; -moz-border-radius: 10px; -webkit-border-radius: 10px;\">\n",
    "<h2 style=\"color: white\">\n",
    "Adding columns with map & apply\n",
    "</h2><br>\n",
    "</div>"
   ]
  },
  {
   "cell_type": "code",
   "execution_count": null,
   "metadata": {},
   "outputs": [],
   "source": [
    "# Adding a column to a pandas DataFrame is like adding a new key-value pair to a dictionary\n",
    "orders['Continent'] = 'PLACEHOLDER'"
   ]
  },
  {
   "cell_type": "code",
   "execution_count": null,
   "metadata": {},
   "outputs": [],
   "source": [
    "# We can derive new columns from existing columns\n",
    "orders['No. Of People'] / orders['Rooms']"
   ]
  },
  {
   "cell_type": "code",
   "execution_count": null,
   "metadata": {},
   "outputs": [],
   "source": [
    "# We need to save this information into a new column if we want to use it later\n",
    "orders['People Per Room'] = orders['No. Of People'] / orders['Rooms']"
   ]
  },
  {
   "cell_type": "code",
   "execution_count": null,
   "metadata": {},
   "outputs": [],
   "source": [
    "# Let's take a look at our new column\n",
    "orders.head(3)"
   ]
  },
  {
   "cell_type": "markdown",
   "metadata": {},
   "source": [
    "### The `.map()` method"
   ]
  },
  {
   "cell_type": "markdown",
   "metadata": {},
   "source": [
    "This is somewhat similar to a VLOOKUP in Excel. You must supply a \"lookup dictionary\"."
   ]
  },
  {
   "cell_type": "code",
   "execution_count": null,
   "metadata": {},
   "outputs": [],
   "source": [
    "continent_lookup = {\n",
    "    # Africa\n",
    "    'Egypt': 'Africa',\n",
    "    'Kenya': 'Africa',\n",
    "    # Asia\n",
    "    'China': 'Asia',\n",
    "    'India': 'Asia',\n",
    "    'Israel': 'Asia',\n",
    "    'Iran': 'Asia',\n",
    "    'Japan': 'Asia',\n",
    "    'Maldives': 'Asia',\n",
    "    'Nepal': 'Asia',\n",
    "    # Australia\n",
    "    'Australia': 'Australia',\n",
    "    'New Zealand': 'Australia',\n",
    "    # Europe\n",
    "    'Denmark': 'Europe',\n",
    "    'France': 'Europe',\n",
    "    'Germany': 'Europe',\n",
    "    'Iceland': 'Europe',\n",
    "    'Ireland': 'Europe',\n",
    "    'Italy': 'Europe',\n",
    "    # North America\n",
    "    'Canada': 'North America',\n",
    "    'Mexico': 'North America',\n",
    "    # South America\n",
    "    'Brazil': 'South America',\n",
    "    'Colombia': 'South America',\n",
    "}"
   ]
  },
  {
   "cell_type": "code",
   "execution_count": null,
   "metadata": {},
   "outputs": [],
   "source": [
    "# We can now \"look up\" the continent (i.e. dictionary lookup) associated\n",
    "# with the dictionary key for e.g. Japan\n",
    "continent_lookup['Brazil']"
   ]
  },
  {
   "cell_type": "markdown",
   "metadata": {},
   "source": [
    "The format of `.map()` is:\n",
    "\n",
    "```python\n",
    "DATAFRAME[COLUMN].map(DICTIONARY)\n",
    "```"
   ]
  },
  {
   "cell_type": "code",
   "execution_count": null,
   "metadata": {},
   "outputs": [],
   "source": [
    "# Let's map the Destination Country of our orders DataFrame\n",
    "# using the continent_lookup dictionary.\n",
    "orders['Destination Country'].map(continent_lookup)"
   ]
  },
  {
   "cell_type": "code",
   "execution_count": null,
   "metadata": {},
   "outputs": [],
   "source": [
    "# This looks good, but it isn't saved. Let's save it into a new column called \"Continent\".\n",
    "orders['Continent'] = orders['Destination Country'].map(continent_lookup)"
   ]
  },
  {
   "cell_type": "code",
   "execution_count": null,
   "metadata": {},
   "outputs": [],
   "source": [
    "# Great, time to take a look!\n",
    "orders.tail(10)"
   ]
  },
  {
   "cell_type": "markdown",
   "metadata": {},
   "source": [
    "> ### 🚩 Exercise\n",
    "> Let's further group the continents into \"[Old World](https://en.wikipedia.org/wiki/Old_World)\" and \"[New World](https://en.wikipedia.org/wiki/New_World)\". The mapping dictionary is provided to you below.\n",
    "> \n",
    "> Create a new column called `World` with the continents mapped according to the dictionary below."
   ]
  },
  {
   "cell_type": "code",
   "execution_count": null,
   "metadata": {},
   "outputs": [],
   "source": [
    "world_lookup = {\n",
    "    # Old World\n",
    "    \"Africa\": \"Old World\",\n",
    "    \"Asia\": \"Old World\",\n",
    "    \"Europe\": \"Old World\",\n",
    "    \n",
    "    # New World\n",
    "    \"North America\": \"New World\",\n",
    "    \"South America\": \"New World\",\n",
    "    \n",
    "    # Australia\n",
    "    \"Australia\": \"Australia\",\n",
    "}"
   ]
  },
  {
   "cell_type": "code",
   "execution_count": null,
   "metadata": {},
   "outputs": [],
   "source": [
    "world_lookup['Europe']"
   ]
  },
  {
   "cell_type": "code",
   "execution_count": null,
   "metadata": {},
   "outputs": [],
   "source": [
    "# ✏️ ENTER YOUR SOLUTION HERE\n",
    "\n",
    "\n"
   ]
  },
  {
   "cell_type": "markdown",
   "metadata": {},
   "source": [
    "### The `.apply()` method\n",
    "The `.map()` method cycles through the values in the specified column, and then runs each single value through a dictionary lookup.\n",
    "\n",
    "In contrast the `.apply()` method cycles through the values in the specified column, and then runs each single value through a function. Let's see it in action."
   ]
  },
  {
   "cell_type": "code",
   "execution_count": null,
   "metadata": {},
   "outputs": [],
   "source": [
    "# First let's see how the Python round() function works\n",
    "for number in [4.2, 4.4, 4.5, 4.8, 5.5]:\n",
    "    print(number, \"rounds to\", round(number))"
   ]
  },
  {
   "cell_type": "markdown",
   "metadata": {},
   "source": [
    "> _Sidenote: Python implements \"[Banker's Rounding](https://www.mathsisfun.com/numbers/rounding-methods.html)\" whereby 0.5 intervals are rounded towards the nearest even number. This reduces bias in calculations performed on the rounded numbers. This is the standard method of rounding taught at school in some countries._"
   ]
  },
  {
   "cell_type": "code",
   "execution_count": null,
   "metadata": {},
   "outputs": [],
   "source": [
    "# Let's apply the round function to the Hotel Rating column\n",
    "orders['Hotel Rating'].apply(round)"
   ]
  },
  {
   "cell_type": "markdown",
   "metadata": {},
   "source": [
    "The format of `.apply()` is:\n",
    "\n",
    "```python\n",
    "DATAFRAME[COLUMN].apply(FUNCTION)\n",
    "```"
   ]
  },
  {
   "cell_type": "code",
   "execution_count": null,
   "metadata": {},
   "outputs": [],
   "source": [
    "# As before, let's save our calculation into a new column in the DataFrame\n",
    "orders['Hotel Rating (rounded)'] = orders['Hotel Rating'].apply(round)"
   ]
  },
  {
   "cell_type": "code",
   "execution_count": null,
   "metadata": {},
   "outputs": [],
   "source": [
    "orders.head(3)"
   ]
  },
  {
   "cell_type": "markdown",
   "metadata": {},
   "source": [
    "---"
   ]
  },
  {
   "cell_type": "markdown",
   "metadata": {},
   "source": [
    "> ### 🚩 Exercise\n",
    "> Create a function that generates an age range string from an integer. We've broken this exercise out step by step for you."
   ]
  },
  {
   "cell_type": "code",
   "execution_count": null,
   "metadata": {},
   "outputs": [],
   "source": [
    "# Let's import the floor() function from Python's math module\n",
    "from math import floor"
   ]
  },
  {
   "cell_type": "markdown",
   "metadata": {},
   "source": [
    "The `floor()` function from [Python's math module](https://docs.python.org/3/library/math.html) rounds a decimal number down to the nearest integer."
   ]
  },
  {
   "cell_type": "code",
   "execution_count": null,
   "metadata": {},
   "outputs": [],
   "source": [
    "print(floor(3.1))\n",
    "print(floor(3.9999999))"
   ]
  },
  {
   "cell_type": "code",
   "execution_count": null,
   "metadata": {},
   "outputs": [],
   "source": [
    "# We can use this to round down to the nearest decade.\n",
    "age = 33\n",
    "floor(age / 10) * 10"
   ]
  },
  {
   "cell_type": "code",
   "execution_count": null,
   "metadata": {},
   "outputs": [],
   "source": [
    "# We can format strings in Python using \"f-strings\". These inject anything inside the curly brackets {}\n",
    "# into the string and are great for taking variables and formatting them into the string.\n",
    "age = 33\n",
    "print(f\"age is {age}\")"
   ]
  },
  {
   "cell_type": "code",
   "execution_count": null,
   "metadata": {},
   "outputs": [],
   "source": [
    "# You can put any Python code inside the curly brackets. It will be evaluated,\n",
    "# and then the result will be inserted into the string.\n",
    "f\"{age}-{age + 10}\""
   ]
  },
  {
   "cell_type": "markdown",
   "metadata": {},
   "source": [
    "> Now it's your turn! We've given you all the clues. We've even created the function outline for you. You should be able to take the `age` input to the function, calculate the nearest decade _lower_ than the age, calculate the age range, construct a format string, and **don't forget to return the formatted string.**\n",
    "> \n",
    "> _Example: if `age` is 59, the nearest decade below this is 50, so the age bracket is \"50-59\"._"
   ]
  },
  {
   "cell_type": "code",
   "execution_count": null,
   "metadata": {},
   "outputs": [],
   "source": [
    "# ✏️ ENTER YOUR SOLUTION HERE\n",
    "\n",
    "\n"
   ]
  },
  {
   "cell_type": "code",
   "execution_count": null,
   "metadata": {},
   "outputs": [],
   "source": [
    "# Let's test out the function. This should display \"30-39\".\n",
    "calculate_age_bracket(age=33)"
   ]
  },
  {
   "cell_type": "code",
   "execution_count": null,
   "metadata": {},
   "outputs": [],
   "source": [
    "# This should display \"30-39\"\n",
    "calculate_age_bracket(age=39)"
   ]
  },
  {
   "cell_type": "code",
   "execution_count": null,
   "metadata": {},
   "outputs": [],
   "source": [
    "# This should display \"40-49\"\n",
    "calculate_age_bracket(age=40)"
   ]
  },
  {
   "cell_type": "markdown",
   "metadata": {},
   "source": [
    "> ### 🚩 Exercise\n",
    "> Apply this function, using the `.apply()` method, to the `Age` column of the `orders` DataFrame, and create a new column called `Age Group`. Double check the previous examples, in fact it may be easiest to copy/paste/adapt the previous examples into the cell below in order to get started. Remember to enter just the name of the function you want to \"apply\" inside the apply method's brackets, i.e. `.apply(calculate_age_bracket)`."
   ]
  },
  {
   "cell_type": "code",
   "execution_count": null,
   "metadata": {},
   "outputs": [],
   "source": [
    "# ✏️ ENTER YOUR SOLUTION HERE\n",
    "\n",
    "\n"
   ]
  },
  {
   "cell_type": "markdown",
   "metadata": {},
   "source": [
    "---\n",
    "<div class=\"alert alert-block alert-info\">\n",
    "    <b>Please proceed to the next part of the course when you are ready.</b> We recommend you download a copy of the <a href=\"https://pandas.pydata.org/Pandas_Cheat_Sheet.pdf\"><b>pandas cheatsheet</b></a> and start taking some notes on which methods and techniques you've seen so far.\n",
    "</div>"
   ]
  }
 ],
 "metadata": {
  "kernelspec": {
   "display_name": "Python 3",
   "language": "python",
   "name": "python3"
  },
  "language_info": {
   "codemirror_mode": {
    "name": "ipython",
    "version": 3
   },
   "file_extension": ".py",
   "mimetype": "text/x-python",
   "name": "python",
   "nbconvert_exporter": "python",
   "pygments_lexer": "ipython3",
   "version": "3.8.8"
  },
  "toc": {
   "base_numbering": 1,
   "nav_menu": {},
   "number_sections": true,
   "sideBar": true,
   "skip_h1_title": false,
   "title_cell": "Table of Contents",
   "title_sidebar": "Contents",
   "toc_cell": false,
   "toc_position": {},
   "toc_section_display": true,
   "toc_window_display": false
  }
 },
 "nbformat": 4,
 "nbformat_minor": 4
}
