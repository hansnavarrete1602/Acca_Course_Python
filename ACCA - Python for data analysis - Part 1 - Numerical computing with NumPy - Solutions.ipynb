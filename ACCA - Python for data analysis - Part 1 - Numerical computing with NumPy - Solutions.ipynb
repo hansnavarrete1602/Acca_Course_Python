{
 "cells": [
  {
   "cell_type": "markdown",
   "metadata": {},
   "source": [
    "<img src=\"https://courses.edx.org/asset-v1:ACCA+ML001+2T2021+type@asset+block@acca-logo.jpg\" alt=\"ACCA logo\" style=\"width: 400px;\"/>\n",
    "\n",
    "# Python for data analysis\n",
    "## Part 1 - Numerical computing with NumPy - `Solutions` ✅\n",
    "\n",
    "* **Course:** __Machine learning with Python for finance professionals__ by ACCA\n",
    "* **Instructor:** [Coefficient](https://coefficient.ai) / [@CoefficientData](https://twitter.com/CoefficientData)\n",
    "\n",
    "---"
   ]
  },
  {
   "cell_type": "markdown",
   "metadata": {},
   "source": [
    "<div class=\"alert alert-block alert-info\" style=\"background-color: #BA001E; border: 0px; -moz-border-radius: 10px; -webkit-border-radius: 10px;\">\n",
    "<h2 style=\"color: white\">\n",
    "NumPy\n",
    "</h2><br>\n",
    "</div>"
   ]
  },
  {
   "cell_type": "markdown",
   "metadata": {},
   "source": [
    "<img src=\"https://courses.edx.org/asset-v1:ACCA+ML001+2T2021+type@asset+block@numpy.png\" alt=\"NumPy\" style=\"width: 300px;\"/>\n",
    "\n",
    "[NumPy](https://numpy.org) (Numerical Python, pronounced \"num-pie\") is an open source Python library for working with numerical data. Many other libraries utilise NumPy under-the-hood with applications including state-of-the-art libraries for [financial analysis](https://numpy.org/numpy-financial/), [image processing](https://scikit-image.org/), [psychology](https://www.psychopy.org/), [astronomy](https://www.astropy.org/), [statistical computing](https://github.com/statsmodels/statsmodels), [machine learning](https://scikit-learn.org/), [quantum computing](http://qutip.org/), [bioinformatics](https://biopython.org/) and [much more](https://numpy.org/).\n",
    "\n",
    "Let's import NumPy. We could just do `import numpy` but to save time we'll use the shorthand alias `np` instead. You can do this with any Python import, e.g. you could do `import numpy as any_name_you_like`, but `np` is shorter."
   ]
  },
  {
   "cell_type": "code",
   "execution_count": 1,
   "metadata": {
    "ExecuteTime": {
     "end_time": "2023-09-03T19:10:19.530070Z",
     "start_time": "2023-09-03T19:10:19.290153500Z"
    }
   },
   "outputs": [],
   "source": [
    "import numpy as np"
   ]
  },
  {
   "cell_type": "code",
   "execution_count": 2,
   "metadata": {
    "ExecuteTime": {
     "end_time": "2023-09-03T19:10:57.876381400Z",
     "start_time": "2023-09-03T19:10:57.845612600Z"
    }
   },
   "outputs": [],
   "source": [
    "# The core of NumPy is the NumPy array. It's similar to a normal Python list.\n",
    "x = np.array([1, 2, 3, 4, 5])"
   ]
  },
  {
   "cell_type": "code",
   "execution_count": 20,
   "outputs": [],
   "source": [
    "np.array?"
   ],
   "metadata": {
    "collapsed": false,
    "ExecuteTime": {
     "end_time": "2023-09-03T19:32:42.926055600Z",
     "start_time": "2023-09-03T19:32:42.906235600Z"
    }
   }
  },
  {
   "cell_type": "code",
   "execution_count": 22,
   "outputs": [],
   "source": [
    "np.ones?"
   ],
   "metadata": {
    "collapsed": false,
    "ExecuteTime": {
     "end_time": "2023-09-03T19:34:34.537658800Z",
     "start_time": "2023-09-03T19:34:34.473448900Z"
    }
   }
  },
  {
   "cell_type": "code",
   "execution_count": 23,
   "outputs": [],
   "source": [
    "np?"
   ],
   "metadata": {
    "collapsed": false,
    "ExecuteTime": {
     "end_time": "2023-09-03T19:38:33.032017400Z",
     "start_time": "2023-09-03T19:38:32.968151900Z"
    }
   }
  },
  {
   "cell_type": "code",
   "execution_count": 3,
   "metadata": {
    "ExecuteTime": {
     "end_time": "2023-09-03T19:11:02.876515400Z",
     "start_time": "2023-09-03T19:11:02.810413400Z"
    }
   },
   "outputs": [
    {
     "data": {
      "text/plain": "1"
     },
     "execution_count": 3,
     "metadata": {},
     "output_type": "execute_result"
    }
   ],
   "source": [
    "# Select the element at position 0\n",
    "x[0]"
   ]
  },
  {
   "cell_type": "code",
   "execution_count": 4,
   "metadata": {
    "ExecuteTime": {
     "end_time": "2023-09-03T19:11:53.121408400Z",
     "start_time": "2023-09-03T19:11:53.092916900Z"
    }
   },
   "outputs": [
    {
     "data": {
      "text/plain": "array([1, 2, 3])"
     },
     "execution_count": 4,
     "metadata": {},
     "output_type": "execute_result"
    }
   ],
   "source": [
    "# Select the first 3 elements\n",
    "x[:3]"
   ]
  },
  {
   "cell_type": "code",
   "execution_count": 5,
   "metadata": {
    "ExecuteTime": {
     "end_time": "2023-09-03T19:12:09.255363600Z",
     "start_time": "2023-09-03T19:12:09.195679300Z"
    }
   },
   "outputs": [
    {
     "data": {
      "text/plain": "array([4, 5])"
     },
     "execution_count": 5,
     "metadata": {},
     "output_type": "execute_result"
    }
   ],
   "source": [
    "# Select the last two elements\n",
    "x[-2:]"
   ]
  },
  {
   "cell_type": "code",
   "execution_count": 6,
   "metadata": {
    "ExecuteTime": {
     "end_time": "2023-09-03T19:14:52.852180500Z",
     "start_time": "2023-09-03T19:14:52.795731900Z"
    }
   },
   "outputs": [
    {
     "data": {
      "text/plain": "array([ 1,  2,  3,  4,  5,  6,  7,  8,  9, 10])"
     },
     "execution_count": 6,
     "metadata": {},
     "output_type": "execute_result"
    }
   ],
   "source": [
    "# Let's use the built-in \"array range\" function, similar to Python's range() function\n",
    "y = np.arange(start=1, stop=11)\n",
    "y"
   ]
  },
  {
   "cell_type": "code",
   "execution_count": 18,
   "outputs": [],
   "source": [
    "np.arange?"
   ],
   "metadata": {
    "collapsed": false,
    "ExecuteTime": {
     "end_time": "2023-09-03T19:27:46.752719100Z",
     "start_time": "2023-09-03T19:27:46.709873400Z"
    }
   }
  },
  {
   "cell_type": "code",
   "execution_count": 7,
   "metadata": {
    "ExecuteTime": {
     "end_time": "2023-09-03T19:15:01.811904Z",
     "start_time": "2023-09-03T19:15:01.767581400Z"
    }
   },
   "outputs": [
    {
     "data": {
      "text/plain": "55"
     },
     "execution_count": 7,
     "metadata": {},
     "output_type": "execute_result"
    }
   ],
   "source": [
    "# We can use the normal built-in Python functions with this array\n",
    "sum(y)"
   ]
  },
  {
   "cell_type": "code",
   "execution_count": 8,
   "metadata": {
    "ExecuteTime": {
     "end_time": "2023-09-03T19:15:13.351018900Z",
     "start_time": "2023-09-03T19:15:13.225680400Z"
    }
   },
   "outputs": [
    {
     "data": {
      "text/plain": "55"
     },
     "execution_count": 8,
     "metadata": {},
     "output_type": "execute_result"
    }
   ],
   "source": [
    "# However, NumPy has it's own \"method\" for calculating sum\n",
    "y.sum()"
   ]
  },
  {
   "cell_type": "markdown",
   "metadata": {},
   "source": [
    "A \"method\" in Python is like a function that operates on whatever it's \"connected to\". Instead of `sum(x)` we do `x.sum()`. Methods are always accessed via a dot (`.`) and are executed with round brackets just like functions. Don't forget the brackets when calling methods!"
   ]
  },
  {
   "cell_type": "code",
   "execution_count": 9,
   "metadata": {
    "ExecuteTime": {
     "end_time": "2023-09-03T19:15:32.697143200Z",
     "start_time": "2023-09-03T19:15:32.671426200Z"
    }
   },
   "outputs": [
    {
     "name": "stdout",
     "output_type": "stream",
     "text": [
      "Mean =  5.5\n",
      "Min =  1\n",
      "Max =  10\n",
      "Std dev =  2.8722813232690143\n"
     ]
    }
   ],
   "source": [
    "# NumPy also has methods for mean, min, max and more.\n",
    "print(\"Mean = \", y.mean())\n",
    "print(\"Min = \", y.min())\n",
    "print(\"Max = \", y.max())\n",
    "print(\"Std dev = \", y.std())  # standard deviation"
   ]
  },
  {
   "cell_type": "markdown",
   "metadata": {},
   "source": [
    "One of the benefits of using NumPy, and by extension Python libraries that utilise NumPy under-the-hood like pandas, is computational speed. With NumPy you get the speed and power of languages like C or Fortan but with the simplicity of Python.\n",
    "\n",
    "Let's see this speed in action.\n",
    "\n",
    "First, we need to know how to time a cell's execution. We use `%%timeit` in the cell below. This is a handy \"Jupyter Magic\" tool for timing the execution of a code cell. It **must** be on the top line of a cell.\n",
    "\n",
    "`%%timeit` runs the cell a number of times (depending on whether the cell is quick or slow to run) and displays information on how long the cell's code takes to run."
   ]
  },
  {
   "cell_type": "code",
   "execution_count": 10,
   "metadata": {
    "ExecuteTime": {
     "end_time": "2023-09-03T19:15:51.828271600Z",
     "start_time": "2023-09-03T19:15:46.383482400Z"
    }
   },
   "outputs": [
    {
     "name": "stdout",
     "output_type": "stream",
     "text": [
      "58.6 ms ± 2.19 ms per loop (mean ± std. dev. of 7 runs, 10 loops each)\n"
     ]
    }
   ],
   "source": [
    "%%timeit\n",
    "\n",
    "# Create a list of one million numbers in Python from 0 to 999999\n",
    "python_vector = list(range(1000000))\n",
    "\n",
    "# Use the built-in Python sum() function to add up the numbers\n",
    "sum(python_vector)"
   ]
  },
  {
   "cell_type": "markdown",
   "metadata": {},
   "source": [
    "You should see something that looks like (your numbers will differ based on how powerful your computer is):\n",
    "\n",
    "```\n",
    "50.4 ms ± 1.1 ms per loop (mean ± std. dev. of 7 runs, 10 loops each)\n",
    "\n",
    "```\n",
    "\n",
    "This means:\n",
    "1. The cell takes 50.4 milliseconds to run (a millisecond is a thousandth of a second).\n",
    "2. This number is the average of re-running the cell 70 times.\n",
    "3. The standard deviation of these timed runs was 1.1 milliseconds.\n",
    "4. **Takeaway: this cell takes ~50 milliseconds to run**."
   ]
  },
  {
   "cell_type": "markdown",
   "metadata": {},
   "source": [
    "Let's now repeat this using NumPy."
   ]
  },
  {
   "cell_type": "code",
   "execution_count": 11,
   "metadata": {
    "ExecuteTime": {
     "end_time": "2023-09-03T19:16:15.706742900Z",
     "start_time": "2023-09-03T19:16:13.653464Z"
    }
   },
   "outputs": [
    {
     "name": "stdout",
     "output_type": "stream",
     "text": [
      "2.52 ms ± 1.33 ms per loop (mean ± std. dev. of 7 runs, 100 loops each)\n"
     ]
    }
   ],
   "source": [
    "%%timeit\n",
    "\n",
    "# Create an array of one million numbers using NumPy from 0 to 999999\n",
    "numpy_vector = np.arange(1000000)\n",
    "\n",
    "# Use the NumPy .sum() method to add up the numbers\n",
    "numpy_vector.sum()"
   ]
  },
  {
   "cell_type": "markdown",
   "metadata": {},
   "source": [
    "You should see something that looks like:\n",
    "\n",
    "```\n",
    "2.21 ms ± 82.9 µs per loop (mean ± std. dev. of 7 runs, 100 loops each)\n",
    "```\n",
    "\n",
    "This suggests that NumPy is over 20x faster than the \"pure Python\" approach."
   ]
  },
  {
   "cell_type": "markdown",
   "metadata": {},
   "source": [
    "---"
   ]
  },
  {
   "cell_type": "markdown",
   "metadata": {},
   "source": [
    "<div class=\"alert alert-block alert-info\" style=\"background-color: #BA001E; border: 0px; -moz-border-radius: 10px; -webkit-border-radius: 10px;\">\n",
    "<h2 style=\"color: white\">\n",
    "Generating random numbers using NumPy\n",
    "</h2><br>\n",
    "</div>"
   ]
  },
  {
   "cell_type": "markdown",
   "metadata": {},
   "source": [
    "NumPy has a `random` module with many handy functions. For example, this next cell can help you pick a lunch option. Every time you re-run the cell it will randomly choose an option from the list."
   ]
  },
  {
   "cell_type": "code",
   "execution_count": 14,
   "metadata": {
    "ExecuteTime": {
     "end_time": "2023-09-03T19:16:33.418345400Z",
     "start_time": "2023-09-03T19:16:33.389013600Z"
    }
   },
   "outputs": [
    {
     "data": {
      "text/plain": "'dim sum'"
     },
     "execution_count": 14,
     "metadata": {},
     "output_type": "execute_result"
    }
   ],
   "source": [
    "np.random.choice(['pizza', 'noodles', 'salad', 'pasta', 'burrito', 'dim sum'])"
   ]
  },
  {
   "cell_type": "code",
   "execution_count": 24,
   "outputs": [],
   "source": [
    "np.random?"
   ],
   "metadata": {
    "collapsed": false,
    "ExecuteTime": {
     "end_time": "2023-09-03T19:48:24.134689300Z",
     "start_time": "2023-09-03T19:48:24.025906900Z"
    }
   }
  },
  {
   "cell_type": "code",
   "execution_count": 26,
   "outputs": [],
   "source": [
    "np.random.random?"
   ],
   "metadata": {
    "collapsed": false,
    "ExecuteTime": {
     "end_time": "2023-09-03T19:51:26.024402500Z",
     "start_time": "2023-09-03T19:51:25.994283900Z"
    }
   }
  },
  {
   "cell_type": "markdown",
   "metadata": {},
   "source": [
    "> ### 🚩 Exercises\n",
    "> 1. Check out the documentation for NumPy's `random.randint()` function by either typing `help(np.random.randint)` or [you can find the NumPy documentation online here](https://numpy.org/doc/stable/reference/random/generated/numpy.random.randint.html). Most Python libraries have great online documentation, and Google is a great tool for finding links to online documentation. Usually \"numpy randint\" would be enough to find this page.\n",
    "> 2. Generate a random number between 1 and 100 using `np.random.randint()`.\n",
    "> 3. Generate 100 random numbers between 1 and 100 using the optional argument `size`.\n",
    "> 4. Generate 1,000,000 random numbers between 1 and 100 and add `.mean()` onto the end. This is an example of \"method chaining\"."
   ]
  },
  {
   "cell_type": "code",
   "execution_count": 15,
   "metadata": {
    "ExecuteTime": {
     "end_time": "2023-09-03T19:17:42.918682800Z",
     "start_time": "2023-09-03T19:17:42.835710900Z"
    }
   },
   "outputs": [],
   "source": [
    "# 1. Check out the documentation for NumPy's random.randint() function.\n",
    "\n",
    "#    Running this cell will load up the \"built-in\" help documentation for this function.\n",
    "#    This is useful as a quick reference, but we recommend comparing this with the online\n",
    "#    documentation as this may also link to related examples or User Guide entries.\n",
    "\n",
    "np.random.randint?\n",
    "\n",
    "# N.B. You can close the help window in Jupyter Notebook by clicking the ✖️ icon."
   ]
  },
  {
   "cell_type": "code",
   "execution_count": 14,
   "metadata": {},
   "outputs": [
    {
     "data": {
      "text/plain": [
       "50"
      ]
     },
     "execution_count": 14,
     "metadata": {},
     "output_type": "execute_result"
    }
   ],
   "source": [
    "# 2. Generate a random number between 1 and 100\n",
    "# ✅ SOLUTION\n",
    "\n",
    "np.random.randint(low=1, high=100)"
   ]
  },
  {
   "cell_type": "code",
   "execution_count": 16,
   "metadata": {
    "ExecuteTime": {
     "end_time": "2023-09-03T19:20:51.466709300Z",
     "start_time": "2023-09-03T19:20:51.417426700Z"
    }
   },
   "outputs": [
    {
     "data": {
      "text/plain": "array([ 8, 74, 86,  7, 17, 28, 62, 11,  3, 99, 29, 64, 53, 18, 32, 42, 52,\n       19,  6, 52, 55, 10, 66, 72, 10, 29, 15, 67, 95, 71, 80, 76, 38, 62,\n       52, 92, 36, 77, 12, 96, 84, 79, 30, 81, 71, 78, 80, 21, 65, 18, 23,\n       13, 97, 75, 36, 13, 38, 56, 20, 50, 82, 92, 37, 47, 99, 62, 23, 40,\n       25, 92, 15,  4, 84, 70,  1,  1, 50, 82, 29, 77, 23, 50, 34, 84, 65,\n       88, 64, 43, 79, 24, 57, 14, 31, 11, 56, 90, 99, 60, 35, 93])"
     },
     "execution_count": 16,
     "metadata": {},
     "output_type": "execute_result"
    }
   ],
   "source": [
    "# 3. Generate 100 random numbers between 1 and 100\n",
    "# ✅ SOLUTION\n",
    "\n",
    "np.random.randint(1, 100, size=100)"
   ]
  },
  {
   "cell_type": "code",
   "execution_count": 17,
   "metadata": {
    "ExecuteTime": {
     "end_time": "2023-09-03T19:21:04.862254300Z",
     "start_time": "2023-09-03T19:21:03.100406200Z"
    }
   },
   "outputs": [
    {
     "data": {
      "text/plain": "49.99752832"
     },
     "execution_count": 17,
     "metadata": {},
     "output_type": "execute_result"
    }
   ],
   "source": [
    "# 4. Average of 1000000 random numbers between 1 and 100\n",
    "# ✅ SOLUTION\n",
    "\n",
    "np.random.randint(1, 100, size=100000000).mean()"
   ]
  },
  {
   "cell_type": "markdown",
   "metadata": {},
   "source": [
    "---\n",
    "More:\n",
    "- https://numpy.org/doc/stable/user/absolute_beginners.html\n",
    "- Docs: https://numpy.org/doc/stable/reference/index.html\n",
    "---"
   ]
  },
  {
   "cell_type": "markdown",
   "source": [],
   "metadata": {
    "collapsed": false
   }
  }
 ],
 "metadata": {
  "kernelspec": {
   "display_name": "Python 3",
   "language": "python",
   "name": "python3"
  },
  "language_info": {
   "codemirror_mode": {
    "name": "ipython",
    "version": 3
   },
   "file_extension": ".py",
   "mimetype": "text/x-python",
   "name": "python",
   "nbconvert_exporter": "python",
   "pygments_lexer": "ipython3",
   "version": "3.8.8"
  },
  "toc": {
   "base_numbering": 1,
   "nav_menu": {},
   "number_sections": true,
   "sideBar": true,
   "skip_h1_title": false,
   "title_cell": "Table of Contents",
   "title_sidebar": "Contents",
   "toc_cell": false,
   "toc_position": {},
   "toc_section_display": true,
   "toc_window_display": false
  }
 },
 "nbformat": 4,
 "nbformat_minor": 4
}
