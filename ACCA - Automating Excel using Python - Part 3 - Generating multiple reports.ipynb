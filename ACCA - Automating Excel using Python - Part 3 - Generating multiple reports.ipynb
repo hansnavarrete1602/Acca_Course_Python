{
 "cells": [
  {
   "cell_type": "markdown",
   "metadata": {},
   "source": [
    "<img src=\"https://courses.edx.org/asset-v1:ACCA+ML001+2T2021+type@asset+block@acca-logo.jpg\" alt=\"ACCA logo\" style=\"width: 400px;\"/>\n",
    "\n",
    "# Automating Excel using Python\n",
    "## Part 3 - Generating multiple reports\n",
    "\n",
    "* **Course:** __Machine learning with Python for finance professionals__ by ACCA\n",
    "* **Instructor:** [Coefficient](https://coefficient.ai) / [@CoefficientData](https://twitter.com/CoefficientData)\n",
    "\n",
    "---"
   ]
  },
  {
   "cell_type": "code",
   "execution_count": null,
   "metadata": {
    "scrolled": true
   },
   "outputs": [],
   "source": [
    "import pandas as pd\n",
    "import xlwings as xw"
   ]
  },
  {
   "cell_type": "markdown",
   "metadata": {},
   "source": [
    "# \n",
    "\n",
    "<div class=\"alert alert-block alert-info\" style=\"background-color: #BA001E; border: 0px; -moz-border-radius: 10px; -webkit-border-radius: 10px;\">\n",
    "<h2 style=\"color: white\">\n",
    "Working with files in Python\n",
    "</h2><br>\n",
    "</div>\n",
    "\n",
    "We will be working with Python's built-in module `pathlib`.\n",
    "\n",
    "First, let's use it to create a directory/folder, if it doesn't exist yet."
   ]
  },
  {
   "cell_type": "code",
   "execution_count": null,
   "metadata": {},
   "outputs": [],
   "source": [
    "from pathlib import Path"
   ]
  },
  {
   "cell_type": "code",
   "execution_count": null,
   "metadata": {},
   "outputs": [],
   "source": [
    "# path = 'C:\\Users\\data\\'\n",
    "# path = '/Users/me/data/'"
   ]
  },
  {
   "cell_type": "code",
   "execution_count": null,
   "metadata": {},
   "outputs": [],
   "source": [
    "# The best reason to use pathlib's Path is that it can create \"OS-native\" filepaths, i.e. on\n",
    "# Windows it will create paths separated by backslashes (\\) and on macOS/Linux it will use\n",
    "# forward slashes (/). Let's create a variable that points to the folder where this notebook lives.\n",
    "\n",
    "here = Path(\".\")"
   ]
  },
  {
   "cell_type": "code",
   "execution_count": null,
   "metadata": {},
   "outputs": [],
   "source": [
    "# Where are we?\n",
    "here.resolve()"
   ]
  },
  {
   "cell_type": "code",
   "execution_count": null,
   "metadata": {},
   "outputs": [],
   "source": [
    "# What's here? Let's list all the notebooks in this folder\n",
    "for file in here.glob(\"*.ipynb\"):\n",
    "    print(file)"
   ]
  },
  {
   "cell_type": "code",
   "execution_count": null,
   "metadata": {},
   "outputs": [],
   "source": [
    "# We'd like to create a folder in this location called \"reports\". Let's construct it\n",
    "# step-by-step, starting with a Path that points to the (yet-to-be-created) reports folder.\n",
    "\n",
    "reports_folder = (here / \"reports\")\n",
    "reports_folder.resolve()"
   ]
  },
  {
   "cell_type": "code",
   "execution_count": null,
   "metadata": {},
   "outputs": [],
   "source": [
    "# Unless you've run this notebook already, the reports folder won't exist. Let's create it now.\n",
    "reports_folder.mkdir(exist_ok=True)"
   ]
  },
  {
   "cell_type": "markdown",
   "metadata": {},
   "source": [
    "A directory called `reports` should have just appeared in the same directory as this notebook."
   ]
  },
  {
   "cell_type": "markdown",
   "metadata": {},
   "source": [
    "# \n",
    "\n",
    "<div class=\"alert alert-block alert-info\" style=\"background-color: #BA001E; border: 0px; -moz-border-radius: 10px; -webkit-border-radius: 10px;\">\n",
    "<h2 style=\"color: white\">\n",
    "Demo: Generating multiple Excel reports with xlwings\n",
    "</h2><br>\n",
    "</div>\n",
    "\n",
    "All we're going to do here is repeat the analysis from the previous notebook's solutions, but with a for loop that will generate one templated report for every vendor in the dataset.\n",
    "\n",
    "You're already 90% there in terms of knowledge, but this is the real time saver!"
   ]
  },
  {
   "cell_type": "markdown",
   "metadata": {},
   "source": [
    "### Read in the data"
   ]
  },
  {
   "cell_type": "code",
   "execution_count": null,
   "metadata": {},
   "outputs": [],
   "source": [
    "# Read in the S-MartX data and replace missing values with an empty string\n",
    "df = (\n",
    "    pd.read_excel(\"S-MartX Database.xlsx\", sheet_name=\"Main Database\")\n",
    "    .fillna(\"\")\n",
    ")"
   ]
  },
  {
   "cell_type": "code",
   "execution_count": null,
   "metadata": {},
   "outputs": [],
   "source": [
    "# Get unique list of vendors\n",
    "vendors = df[\"Vendor Name\"].unique()\n",
    "print(vendors)"
   ]
  },
  {
   "cell_type": "markdown",
   "metadata": {},
   "source": [
    "### One function to get all the vendor stats"
   ]
  },
  {
   "cell_type": "code",
   "execution_count": null,
   "metadata": {},
   "outputs": [],
   "source": [
    "# Refactor ALL the code from the last notebook into a single function.\n",
    "\n",
    "\n",
    "def get_vendor_stats(df, vendor_name):\n",
    "    # We will fill this dictionary with vendor stats and return it\n",
    "    data = {}\n",
    "    data[\"vendor\"] = vendor_name\n",
    "\n",
    "    # Filter to this vendor only\n",
    "    vendor = df.query(f\"`Vendor Name` == '{vendor_name}'\")\n",
    "\n",
    "    # Get order count\n",
    "    data[\"order_count\"] = len(vendor)\n",
    "\n",
    "    # Get total net sales\n",
    "    data[\"total_net_sales\"] = vendor[\"Net Sales[SGD]\"].sum()\n",
    "\n",
    "    # Get top brand & top item in one go (less code is good!)\n",
    "    for col in [\"Brand Name\", \"Item Name\"]:\n",
    "        data[col] = (\n",
    "            vendor.groupby([col])[\"Net Sales[SGD]\"]\n",
    "            .sum()\n",
    "            .reset_index()\n",
    "            .sort_values(\"Net Sales[SGD]\", ascending=False)\n",
    "            .iloc[0][col]\n",
    "        )\n",
    "\n",
    "    # Get top categories\n",
    "    data[\"top_categories\"] = (\n",
    "        vendor.groupby([\"Category Name\", \"Prod Grp Name\"])[\"Net Sales[SGD]\"]\n",
    "        .sum()\n",
    "        .reset_index()\n",
    "        .sort_values(\"Net Sales[SGD]\", ascending=False)\n",
    "        .head(4)\n",
    "        .values  # added this in here\n",
    "    )\n",
    "\n",
    "    # min/max dates\n",
    "    data[\"min_date\"] = vendor.Date.min().strftime(\"%d %b %Y\")\n",
    "    data[\"max_date\"] = vendor.Date.max().strftime(\"%d %b %Y\")\n",
    "\n",
    "    return data"
   ]
  },
  {
   "cell_type": "code",
   "execution_count": null,
   "metadata": {},
   "outputs": [],
   "source": [
    "# Let's take it for a spin\n",
    "get_vendor_stats(df, vendor_name=\"Sports Hub\")"
   ]
  },
  {
   "cell_type": "markdown",
   "metadata": {},
   "source": [
    "### Let's generate some reports"
   ]
  },
  {
   "cell_type": "code",
   "execution_count": null,
   "metadata": {},
   "outputs": [],
   "source": [
    "# We're going to iterate through the list of vendors created earlier\n",
    "vendors[:3]"
   ]
  },
  {
   "cell_type": "code",
   "execution_count": null,
   "metadata": {},
   "outputs": [],
   "source": [
    "# How many vendors are there?\n",
    "len(vendors)"
   ]
  },
  {
   "cell_type": "markdown",
   "metadata": {},
   "source": [
    "Let's use tqdm to give us a nice progress bar ([more info here](https://tqdm.github.io/))."
   ]
  },
  {
   "cell_type": "code",
   "execution_count": null,
   "metadata": {},
   "outputs": [],
   "source": [
    "from time import sleep\n",
    "from tqdm import tqdm"
   ]
  },
  {
   "cell_type": "code",
   "execution_count": null,
   "metadata": {},
   "outputs": [],
   "source": [
    "# tqdm generates nice progress bars!\n",
    "for i in tqdm(range(20)):\n",
    "    sleep(0.2)"
   ]
  },
  {
   "cell_type": "code",
   "execution_count": null,
   "metadata": {
    "scrolled": true
   },
   "outputs": [],
   "source": [
    "# If you'd like to process all 89 vendors, remove [:20] so it's just tqdm(vendors)\n",
    "for vendor_name in tqdm(vendors[:20]):\n",
    "    # Get our vendor stats\n",
    "    vendor_stats = get_vendor_stats(df, vendor_name=vendor_name)\n",
    "\n",
    "    # Open up the workbook and write it all in\n",
    "    wb = xw.Book(\"S-MartX Vendor Report.xlsx\")\n",
    "    sheet = wb.sheets[\"Report\"]\n",
    "    sheet.range(\"B3\").value = vendor_name\n",
    "    sheet.range(\"C6\").value = vendor_stats[\"min_date\"]\n",
    "    sheet.range(\"D6\").value = vendor_stats[\"max_date\"]\n",
    "    sheet.range(\"D7\").value = vendor_stats[\"order_count\"]\n",
    "    sheet.range(\"D8\").value = vendor_stats[\"total_net_sales\"]\n",
    "    sheet.range(\"D9\").value = vendor_stats[\"Brand Name\"]\n",
    "    sheet.range(\"D10\").value = vendor_stats[\"Item Name\"]\n",
    "    sheet.range(\"F7\").value = vendor_stats[\"top_categories\"]\n",
    "\n",
    "    # Specify where we want this saved\n",
    "    filename = f\"S-MartX Vendor Report - {vendor_name}.xlsx\"\n",
    "    filepath = reports_folder / filename\n",
    "\n",
    "    # Save it\n",
    "    wb.save(filepath)"
   ]
  },
  {
   "cell_type": "markdown",
   "metadata": {},
   "source": [
    "If this ran successfully, check out the `reports/` folder, you should now see a bunch of tailored vendor reports. If you hit any errors, check to see if there are any dialogues asking for permissions (e.g. you will need to Grant Access to the `reports/` directory on macOS). If in doubt, try again.\n",
    "\n",
    "Otherwise, read your error message carefully, Google the error message, see if there are any StackOverflow posts that might help. If you're very stuck, feel free to post your problem on StackOverflow and DM us [@CoefficientData](https://twitter.com/CoefficientData), perhaps we can help you out."
   ]
  },
  {
   "cell_type": "markdown",
   "metadata": {},
   "source": [
    "---\n",
    "<div class=\"alert alert-block alert-success\">\n",
    "<b>🎉 Congratulations</b><br>\n",
    "You have reached the end of this module.\n",
    "</div>"
   ]
  }
 ],
 "metadata": {
  "kernelspec": {
   "display_name": "Python 3",
   "language": "python",
   "name": "python3"
  },
  "language_info": {
   "codemirror_mode": {
    "name": "ipython",
    "version": 3
   },
   "file_extension": ".py",
   "mimetype": "text/x-python",
   "name": "python",
   "nbconvert_exporter": "python",
   "pygments_lexer": "ipython3",
   "version": "3.8.8"
  },
  "toc": {
   "base_numbering": 1,
   "nav_menu": {},
   "number_sections": true,
   "sideBar": true,
   "skip_h1_title": false,
   "title_cell": "Table of Contents",
   "title_sidebar": "Contents",
   "toc_cell": false,
   "toc_position": {},
   "toc_section_display": true,
   "toc_window_display": false
  }
 },
 "nbformat": 4,
 "nbformat_minor": 4
}
